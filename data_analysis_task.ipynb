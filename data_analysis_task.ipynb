{
 "cells": [
  {
   "cell_type": "code",
   "execution_count": 1,
   "metadata": {},
   "outputs": [],
   "source": [
    "import pandas as pd #data manipulation and analysis\n",
    "import numpy as np #data arrays\n",
    "import seaborn as sns\n",
    "import matplotlib.pyplot as plt\n",
    "import plotly.express as px #data visualisation"
   ]
  },
  {
   "cell_type": "code",
   "execution_count": 2,
   "metadata": {},
   "outputs": [
    {
     "data": {
      "text/html": [
       "<div>\n",
       "<style scoped>\n",
       "    .dataframe tbody tr th:only-of-type {\n",
       "        vertical-align: middle;\n",
       "    }\n",
       "\n",
       "    .dataframe tbody tr th {\n",
       "        vertical-align: top;\n",
       "    }\n",
       "\n",
       "    .dataframe thead th {\n",
       "        text-align: right;\n",
       "    }\n",
       "</style>\n",
       "<table border=\"1\" class=\"dataframe\">\n",
       "  <thead>\n",
       "    <tr style=\"text-align: right;\">\n",
       "      <th></th>\n",
       "      <th>transaction_id</th>\n",
       "      <th>user_id</th>\n",
       "      <th>account_id</th>\n",
       "      <th>transaction_timestamp</th>\n",
       "      <th>amount</th>\n",
       "      <th>currency</th>\n",
       "      <th>category</th>\n",
       "    </tr>\n",
       "  </thead>\n",
       "  <tbody>\n",
       "    <tr>\n",
       "      <th>0</th>\n",
       "      <td>170a95df-cfb2-447e-bf7e-4dc6c3f8359a</td>\n",
       "      <td>56c72fe5-0590-4d01-a20f-6bfe5a9aaaf2</td>\n",
       "      <td>0cea3651-31b2-4f50-9baa-a5052716b361</td>\n",
       "      <td>2020-08-19 00:00:00</td>\n",
       "      <td>-26.95</td>\n",
       "      <td>GBP</td>\n",
       "      <td>other_general</td>\n",
       "    </tr>\n",
       "    <tr>\n",
       "      <th>1</th>\n",
       "      <td>e96b6614-be03-4dfe-9104-7d147df74ee0</td>\n",
       "      <td>75e80d46-902f-439c-b1e7-c530457400fe</td>\n",
       "      <td>0de94e02-be06-4d5a-ae04-dfae808cf059</td>\n",
       "      <td>2020-07-11 19:32:45</td>\n",
       "      <td>-11.57</td>\n",
       "      <td>GBP</td>\n",
       "      <td>convenience_stores</td>\n",
       "    </tr>\n",
       "    <tr>\n",
       "      <th>2</th>\n",
       "      <td>7e85e719-5377-4ed2-a3af-1e370bd92c01</td>\n",
       "      <td>56c72fe5-0590-4d01-a20f-6bfe5a9aaaf2</td>\n",
       "      <td>0cea3651-31b2-4f50-9baa-a5052716b361</td>\n",
       "      <td>2020-07-02 00:00:00</td>\n",
       "      <td>-35.00</td>\n",
       "      <td>GBP</td>\n",
       "      <td>other_general</td>\n",
       "    </tr>\n",
       "    <tr>\n",
       "      <th>3</th>\n",
       "      <td>910458ea-288e-4e2a-b881-9924f9b1e415</td>\n",
       "      <td>e38cbd04-b2d3-4c4d-8caf-95a7fef74af4</td>\n",
       "      <td>77960b18-b3ee-4bbd-895e-12f1b6deb88e</td>\n",
       "      <td>2020-05-01 10:21:32</td>\n",
       "      <td>100.00</td>\n",
       "      <td>GBP</td>\n",
       "      <td>other_finances</td>\n",
       "    </tr>\n",
       "    <tr>\n",
       "      <th>4</th>\n",
       "      <td>561840a9-f290-4ffd-952c-abb75ff59f5c</td>\n",
       "      <td>520fafb2-ca7b-44db-94d6-0b3686fbd1ad</td>\n",
       "      <td>56b9222f-7ab2-4b1a-b9b5-7196b9a9e6ea</td>\n",
       "      <td>2020-01-17 12:58:54</td>\n",
       "      <td>-0.90</td>\n",
       "      <td>GBP</td>\n",
       "      <td>supermarkets</td>\n",
       "    </tr>\n",
       "  </tbody>\n",
       "</table>\n",
       "</div>"
      ],
      "text/plain": [
       "                         transaction_id                               user_id  \\\n",
       "0  170a95df-cfb2-447e-bf7e-4dc6c3f8359a  56c72fe5-0590-4d01-a20f-6bfe5a9aaaf2   \n",
       "1  e96b6614-be03-4dfe-9104-7d147df74ee0  75e80d46-902f-439c-b1e7-c530457400fe   \n",
       "2  7e85e719-5377-4ed2-a3af-1e370bd92c01  56c72fe5-0590-4d01-a20f-6bfe5a9aaaf2   \n",
       "3  910458ea-288e-4e2a-b881-9924f9b1e415  e38cbd04-b2d3-4c4d-8caf-95a7fef74af4   \n",
       "4  561840a9-f290-4ffd-952c-abb75ff59f5c  520fafb2-ca7b-44db-94d6-0b3686fbd1ad   \n",
       "\n",
       "                             account_id transaction_timestamp  amount  \\\n",
       "0  0cea3651-31b2-4f50-9baa-a5052716b361   2020-08-19 00:00:00  -26.95   \n",
       "1  0de94e02-be06-4d5a-ae04-dfae808cf059   2020-07-11 19:32:45  -11.57   \n",
       "2  0cea3651-31b2-4f50-9baa-a5052716b361   2020-07-02 00:00:00  -35.00   \n",
       "3  77960b18-b3ee-4bbd-895e-12f1b6deb88e   2020-05-01 10:21:32  100.00   \n",
       "4  56b9222f-7ab2-4b1a-b9b5-7196b9a9e6ea   2020-01-17 12:58:54   -0.90   \n",
       "\n",
       "  currency            category  \n",
       "0      GBP       other_general  \n",
       "1      GBP  convenience_stores  \n",
       "2      GBP       other_general  \n",
       "3      GBP      other_finances  \n",
       "4      GBP        supermarkets  "
      ]
     },
     "execution_count": 2,
     "metadata": {},
     "output_type": "execute_result"
    }
   ],
   "source": [
    "df = pd.read_csv('C:/Users/zaydm/Downloads/sample_transaction_data.csv')\n",
    "df.head()"
   ]
  },
  {
   "cell_type": "code",
   "execution_count": 3,
   "metadata": {},
   "outputs": [
    {
     "data": {
      "text/html": [
       "<div>\n",
       "<style scoped>\n",
       "    .dataframe tbody tr th:only-of-type {\n",
       "        vertical-align: middle;\n",
       "    }\n",
       "\n",
       "    .dataframe tbody tr th {\n",
       "        vertical-align: top;\n",
       "    }\n",
       "\n",
       "    .dataframe thead th {\n",
       "        text-align: right;\n",
       "    }\n",
       "</style>\n",
       "<table border=\"1\" class=\"dataframe\">\n",
       "  <thead>\n",
       "    <tr style=\"text-align: right;\">\n",
       "      <th></th>\n",
       "      <th>transaction_id</th>\n",
       "      <th>user_id</th>\n",
       "      <th>account_id</th>\n",
       "      <th>transaction_timestamp</th>\n",
       "      <th>amount</th>\n",
       "      <th>currency</th>\n",
       "      <th>category</th>\n",
       "      <th>month</th>\n",
       "    </tr>\n",
       "  </thead>\n",
       "  <tbody>\n",
       "    <tr>\n",
       "      <th>0</th>\n",
       "      <td>170a95df-cfb2-447e-bf7e-4dc6c3f8359a</td>\n",
       "      <td>56c72fe5-0590-4d01-a20f-6bfe5a9aaaf2</td>\n",
       "      <td>0cea3651-31b2-4f50-9baa-a5052716b361</td>\n",
       "      <td>2020-08-19</td>\n",
       "      <td>-26.95</td>\n",
       "      <td>GBP</td>\n",
       "      <td>other_general</td>\n",
       "      <td>Aug</td>\n",
       "    </tr>\n",
       "  </tbody>\n",
       "</table>\n",
       "</div>"
      ],
      "text/plain": [
       "                         transaction_id                               user_id  \\\n",
       "0  170a95df-cfb2-447e-bf7e-4dc6c3f8359a  56c72fe5-0590-4d01-a20f-6bfe5a9aaaf2   \n",
       "\n",
       "                             account_id transaction_timestamp  amount  \\\n",
       "0  0cea3651-31b2-4f50-9baa-a5052716b361            2020-08-19  -26.95   \n",
       "\n",
       "  currency       category month  \n",
       "0      GBP  other_general   Aug  "
      ]
     },
     "execution_count": 3,
     "metadata": {},
     "output_type": "execute_result"
    }
   ],
   "source": [
    "#convert timestamps to datetime format for manipulation\n",
    "df['transaction_timestamp'] = pd.to_datetime(df['transaction_timestamp'])\n",
    "\n",
    "# New month column, 3 letter months \n",
    "df['month'] = df['transaction_timestamp'].dt.month_name().str.slice(stop=3)\n",
    "months = ['Jan', 'Feb', 'Mar', 'Apr', 'May', 'Jun', 'Jul', 'Aug', 'Sep']\n",
    "\n",
    "# month column as categorical format = they output in chronological order\n",
    "df['month'] = pd.Categorical(df['month'], categories = months)\n",
    "\n",
    "df.head(1)"
   ]
  },
  {
   "cell_type": "code",
   "execution_count": 4,
   "metadata": {},
   "outputs": [
    {
     "data": {
      "text/plain": [
       "transaction_id           16131\n",
       "user_id                     20\n",
       "account_id                  79\n",
       "transaction_timestamp     5664\n",
       "amount                    4462\n",
       "currency                     1\n",
       "category                    82\n",
       "month                        9\n",
       "dtype: int64"
      ]
     },
     "execution_count": 4,
     "metadata": {},
     "output_type": "execute_result"
    }
   ],
   "source": [
    "df.nunique()"
   ]
  },
  {
   "cell_type": "markdown",
   "metadata": {},
   "source": [
    "### 1) What is the average number of accounts per user?"
   ]
  },
  {
   "cell_type": "code",
   "execution_count": 5,
   "metadata": {},
   "outputs": [
    {
     "data": {
      "text/plain": [
       "3.95"
      ]
     },
     "execution_count": 5,
     "metadata": {},
     "output_type": "execute_result"
    }
   ],
   "source": [
    "#unique count account ids (79) divided by unique count of user_ids (20)\n",
    "acc_id_count = df['account_id'].nunique()\n",
    "user_id_count = df['user_id'].nunique()\n",
    "acc_id_count/user_id_count"
   ]
  },
  {
   "cell_type": "markdown",
   "metadata": {},
   "source": [
    "### 2) Averages can sometimes be misleading, can you plot the distribution of the number of accounts across users?"
   ]
  },
  {
   "cell_type": "code",
   "execution_count": 6,
   "metadata": {},
   "outputs": [
    {
     "data": {
      "text/html": [
       "<div>\n",
       "<style scoped>\n",
       "    .dataframe tbody tr th:only-of-type {\n",
       "        vertical-align: middle;\n",
       "    }\n",
       "\n",
       "    .dataframe tbody tr th {\n",
       "        vertical-align: top;\n",
       "    }\n",
       "\n",
       "    .dataframe thead th {\n",
       "        text-align: right;\n",
       "    }\n",
       "</style>\n",
       "<table border=\"1\" class=\"dataframe\">\n",
       "  <thead>\n",
       "    <tr style=\"text-align: right;\">\n",
       "      <th></th>\n",
       "      <th>user_id</th>\n",
       "      <th>count_of_account_id</th>\n",
       "    </tr>\n",
       "  </thead>\n",
       "  <tbody>\n",
       "    <tr>\n",
       "      <th>0</th>\n",
       "      <td>00190202-9539-4df9-8b7e-3461ccabe31c</td>\n",
       "      <td>5</td>\n",
       "    </tr>\n",
       "    <tr>\n",
       "      <th>1</th>\n",
       "      <td>04484b98-1dc3-4c87-ae33-fd477a00c2c8</td>\n",
       "      <td>6</td>\n",
       "    </tr>\n",
       "    <tr>\n",
       "      <th>2</th>\n",
       "      <td>09519500-db18-4bee-a6fd-01aa5c7f6cd7</td>\n",
       "      <td>6</td>\n",
       "    </tr>\n",
       "    <tr>\n",
       "      <th>3</th>\n",
       "      <td>14003899-10e9-4765-808b-591b78919168</td>\n",
       "      <td>4</td>\n",
       "    </tr>\n",
       "    <tr>\n",
       "      <th>4</th>\n",
       "      <td>1a1b9688-9d63-4326-983e-51e3d394958b</td>\n",
       "      <td>6</td>\n",
       "    </tr>\n",
       "    <tr>\n",
       "      <th>5</th>\n",
       "      <td>1ff9808d-094d-4069-aed1-51ac3c242abd</td>\n",
       "      <td>4</td>\n",
       "    </tr>\n",
       "    <tr>\n",
       "      <th>6</th>\n",
       "      <td>2e056705-0b72-4906-bef0-e58f0c999a8d</td>\n",
       "      <td>3</td>\n",
       "    </tr>\n",
       "    <tr>\n",
       "      <th>7</th>\n",
       "      <td>3ba1a146-5abf-4858-bb61-0ee0651cac03</td>\n",
       "      <td>4</td>\n",
       "    </tr>\n",
       "    <tr>\n",
       "      <th>8</th>\n",
       "      <td>4203dbe0-2075-4fd5-b81b-e376ea3d8477</td>\n",
       "      <td>4</td>\n",
       "    </tr>\n",
       "    <tr>\n",
       "      <th>9</th>\n",
       "      <td>520fafb2-ca7b-44db-94d6-0b3686fbd1ad</td>\n",
       "      <td>1</td>\n",
       "    </tr>\n",
       "    <tr>\n",
       "      <th>10</th>\n",
       "      <td>56c72fe5-0590-4d01-a20f-6bfe5a9aaaf2</td>\n",
       "      <td>3</td>\n",
       "    </tr>\n",
       "    <tr>\n",
       "      <th>11</th>\n",
       "      <td>66dc5220-47ba-4ba1-8899-985152fe93e3</td>\n",
       "      <td>3</td>\n",
       "    </tr>\n",
       "    <tr>\n",
       "      <th>12</th>\n",
       "      <td>6f351a10-1980-458f-906f-4cbf90370ce5</td>\n",
       "      <td>6</td>\n",
       "    </tr>\n",
       "    <tr>\n",
       "      <th>13</th>\n",
       "      <td>75e80d46-902f-439c-b1e7-c530457400fe</td>\n",
       "      <td>5</td>\n",
       "    </tr>\n",
       "    <tr>\n",
       "      <th>14</th>\n",
       "      <td>8db76143-a6ce-4adc-b934-81ad2de8f12e</td>\n",
       "      <td>2</td>\n",
       "    </tr>\n",
       "    <tr>\n",
       "      <th>15</th>\n",
       "      <td>a53cf823-20a4-45d0-bb09-7984736b97b4</td>\n",
       "      <td>3</td>\n",
       "    </tr>\n",
       "    <tr>\n",
       "      <th>16</th>\n",
       "      <td>cf656f17-c9ee-4f0a-90bf-b679291ea2fe</td>\n",
       "      <td>3</td>\n",
       "    </tr>\n",
       "    <tr>\n",
       "      <th>17</th>\n",
       "      <td>e230dc7c-723f-4f9f-a7e0-baabfdeb3a9a</td>\n",
       "      <td>4</td>\n",
       "    </tr>\n",
       "    <tr>\n",
       "      <th>18</th>\n",
       "      <td>e38cbd04-b2d3-4c4d-8caf-95a7fef74af4</td>\n",
       "      <td>2</td>\n",
       "    </tr>\n",
       "    <tr>\n",
       "      <th>19</th>\n",
       "      <td>eeb03060-65ee-4078-bd92-1970e11ae58f</td>\n",
       "      <td>5</td>\n",
       "    </tr>\n",
       "  </tbody>\n",
       "</table>\n",
       "</div>"
      ],
      "text/plain": [
       "                                 user_id  count_of_account_id\n",
       "0   00190202-9539-4df9-8b7e-3461ccabe31c                    5\n",
       "1   04484b98-1dc3-4c87-ae33-fd477a00c2c8                    6\n",
       "2   09519500-db18-4bee-a6fd-01aa5c7f6cd7                    6\n",
       "3   14003899-10e9-4765-808b-591b78919168                    4\n",
       "4   1a1b9688-9d63-4326-983e-51e3d394958b                    6\n",
       "5   1ff9808d-094d-4069-aed1-51ac3c242abd                    4\n",
       "6   2e056705-0b72-4906-bef0-e58f0c999a8d                    3\n",
       "7   3ba1a146-5abf-4858-bb61-0ee0651cac03                    4\n",
       "8   4203dbe0-2075-4fd5-b81b-e376ea3d8477                    4\n",
       "9   520fafb2-ca7b-44db-94d6-0b3686fbd1ad                    1\n",
       "10  56c72fe5-0590-4d01-a20f-6bfe5a9aaaf2                    3\n",
       "11  66dc5220-47ba-4ba1-8899-985152fe93e3                    3\n",
       "12  6f351a10-1980-458f-906f-4cbf90370ce5                    6\n",
       "13  75e80d46-902f-439c-b1e7-c530457400fe                    5\n",
       "14  8db76143-a6ce-4adc-b934-81ad2de8f12e                    2\n",
       "15  a53cf823-20a4-45d0-bb09-7984736b97b4                    3\n",
       "16  cf656f17-c9ee-4f0a-90bf-b679291ea2fe                    3\n",
       "17  e230dc7c-723f-4f9f-a7e0-baabfdeb3a9a                    4\n",
       "18  e38cbd04-b2d3-4c4d-8caf-95a7fef74af4                    2\n",
       "19  eeb03060-65ee-4078-bd92-1970e11ae58f                    5"
      ]
     },
     "execution_count": 6,
     "metadata": {},
     "output_type": "execute_result"
    }
   ],
   "source": [
    "#Groupby user id and then show unique count of account id for each user, \n",
    "unique_user_id = df.groupby('user_id')\n",
    "account_distribution_chart = unique_user_id['account_id'].nunique().reset_index()\n",
    "\n",
    "#rename column\n",
    "account_distribution_chart.rename(columns = {'account_id': 'count_of_account_id'}, inplace=True)\n",
    "account_distribution_chart"
   ]
  },
  {
   "cell_type": "code",
   "execution_count": 7,
   "metadata": {},
   "outputs": [
    {
     "data": {
      "text/plain": [
       "Text(0.5, 1.0, 'Distribution of accounts across users')"
      ]
     },
     "execution_count": 7,
     "metadata": {},
     "output_type": "execute_result"
    },
    {
     "data": {
      "image/png": "[encoded data removed]",
      "text/plain": [
       "<Figure size 720x360 with 1 Axes>"
      ]
     },
     "metadata": {
      "needs_background": "light"
     },
     "output_type": "display_data"
    }
   ],
   "source": [
    "#Question 2 cont\n",
    "plt.style.use('tableau-colorblind10')\n",
    "plt.figure (figsize=(10,5))\n",
    "account_distribution_chart['count_of_account_id'].plot(kind='hist')\n",
    "plt.ylabel('Count of User', fontsize = 12,weight = 'semibold' )\n",
    "plt.xlabel('Count of account', fontsize = 12, weight = 'semibold')\n",
    "plt.title('Distribution of accounts across users', weight = 'semibold')"
   ]
  },
  {
   "cell_type": "markdown",
   "metadata": {},
   "source": [
    "### 3) What are the top 3 categories that had the highest number of transactions (excluding `transfers_in`, `transfers_out` and `other_general`)?"
   ]
  },
  {
   "cell_type": "code",
   "execution_count": 8,
   "metadata": {},
   "outputs": [
    {
     "name": "stderr",
     "output_type": "stream",
     "text": [
      "c:\\Users\\zaydm\\miniconda3\\envs\\crypto_env\\lib\\site-packages\\pandas\\core\\generic.py:4150: PerformanceWarning: dropping on a non-lexsorted multi-index without a level parameter may impact performance.\n",
      "  obj = obj._drop_axis(labels, axis, level=level, errors=errors)\n"
     ]
    },
    {
     "data": {
      "text/plain": [
       "category        \n",
       "supermarkets        1578\n",
       "other_finances       817\n",
       "other_eating_out     785\n",
       "dtype: int64"
      ]
     },
     "execution_count": 8,
     "metadata": {},
     "output_type": "execute_result"
    }
   ],
   "source": [
    "# Count highest number of transactions in each category and sort by largest (nlargest = 6 since we drop 3 categories to then get top 3)\n",
    "# Then drop the categories we don't want to include\n",
    "df[['category']].value_counts().nlargest(6).drop(['transfers_out','transfers_in', 'other_general'])"
   ]
  },
  {
   "cell_type": "markdown",
   "metadata": {},
   "source": [
    "### 4) For each user, extract the top 3 categories by amount spent\n",
    "\n",
    "We would like the output to be a dictionary, with the user_id as the key, i.e. \\\n",
    "{user_1: ['mortgage_and_rent', 'shopping', 'sit_down_restaurants'], user_2: ['...', '...', '...'], ...}}"
   ]
  },
  {
   "cell_type": "code",
   "execution_count": 9,
   "metadata": {},
   "outputs": [
    {
     "data": {
      "text/html": [
       "<div>\n",
       "<style scoped>\n",
       "    .dataframe tbody tr th:only-of-type {\n",
       "        vertical-align: middle;\n",
       "    }\n",
       "\n",
       "    .dataframe tbody tr th {\n",
       "        vertical-align: top;\n",
       "    }\n",
       "\n",
       "    .dataframe thead th {\n",
       "        text-align: right;\n",
       "    }\n",
       "</style>\n",
       "<table border=\"1\" class=\"dataframe\">\n",
       "  <thead>\n",
       "    <tr style=\"text-align: right;\">\n",
       "      <th></th>\n",
       "      <th>transaction_id</th>\n",
       "      <th>user_id</th>\n",
       "      <th>account_id</th>\n",
       "      <th>transaction_timestamp</th>\n",
       "      <th>amount</th>\n",
       "      <th>currency</th>\n",
       "      <th>category</th>\n",
       "      <th>month</th>\n",
       "    </tr>\n",
       "  </thead>\n",
       "  <tbody>\n",
       "    <tr>\n",
       "      <th>0</th>\n",
       "      <td>170a95df-cfb2-447e-bf7e-4dc6c3f8359a</td>\n",
       "      <td>56c72fe5-0590-4d01-a20f-6bfe5a9aaaf2</td>\n",
       "      <td>0cea3651-31b2-4f50-9baa-a5052716b361</td>\n",
       "      <td>2020-08-19 00:00:00</td>\n",
       "      <td>-26.95</td>\n",
       "      <td>GBP</td>\n",
       "      <td>other_general</td>\n",
       "      <td>Aug</td>\n",
       "    </tr>\n",
       "    <tr>\n",
       "      <th>1</th>\n",
       "      <td>e96b6614-be03-4dfe-9104-7d147df74ee0</td>\n",
       "      <td>75e80d46-902f-439c-b1e7-c530457400fe</td>\n",
       "      <td>0de94e02-be06-4d5a-ae04-dfae808cf059</td>\n",
       "      <td>2020-07-11 19:32:45</td>\n",
       "      <td>-11.57</td>\n",
       "      <td>GBP</td>\n",
       "      <td>convenience_stores</td>\n",
       "      <td>Jul</td>\n",
       "    </tr>\n",
       "    <tr>\n",
       "      <th>2</th>\n",
       "      <td>7e85e719-5377-4ed2-a3af-1e370bd92c01</td>\n",
       "      <td>56c72fe5-0590-4d01-a20f-6bfe5a9aaaf2</td>\n",
       "      <td>0cea3651-31b2-4f50-9baa-a5052716b361</td>\n",
       "      <td>2020-07-02 00:00:00</td>\n",
       "      <td>-35.00</td>\n",
       "      <td>GBP</td>\n",
       "      <td>other_general</td>\n",
       "      <td>Jul</td>\n",
       "    </tr>\n",
       "    <tr>\n",
       "      <th>4</th>\n",
       "      <td>561840a9-f290-4ffd-952c-abb75ff59f5c</td>\n",
       "      <td>520fafb2-ca7b-44db-94d6-0b3686fbd1ad</td>\n",
       "      <td>56b9222f-7ab2-4b1a-b9b5-7196b9a9e6ea</td>\n",
       "      <td>2020-01-17 12:58:54</td>\n",
       "      <td>-0.90</td>\n",
       "      <td>GBP</td>\n",
       "      <td>supermarkets</td>\n",
       "      <td>Jan</td>\n",
       "    </tr>\n",
       "    <tr>\n",
       "      <th>5</th>\n",
       "      <td>a403f405-37f5-4bfa-aec1-ea9f48ce8bd9</td>\n",
       "      <td>66dc5220-47ba-4ba1-8899-985152fe93e3</td>\n",
       "      <td>b248e65c-964f-4619-8938-00054e4cbe38</td>\n",
       "      <td>2020-09-14 00:00:00</td>\n",
       "      <td>-12.00</td>\n",
       "      <td>GBP</td>\n",
       "      <td>other_eating_out</td>\n",
       "      <td>Sep</td>\n",
       "    </tr>\n",
       "    <tr>\n",
       "      <th>...</th>\n",
       "      <td>...</td>\n",
       "      <td>...</td>\n",
       "      <td>...</td>\n",
       "      <td>...</td>\n",
       "      <td>...</td>\n",
       "      <td>...</td>\n",
       "      <td>...</td>\n",
       "      <td>...</td>\n",
       "    </tr>\n",
       "    <tr>\n",
       "      <th>16125</th>\n",
       "      <td>5edef537-1130-4941-99f8-dbd3b00453de</td>\n",
       "      <td>66dc5220-47ba-4ba1-8899-985152fe93e3</td>\n",
       "      <td>b248e65c-964f-4619-8938-00054e4cbe38</td>\n",
       "      <td>2020-04-07 00:00:00</td>\n",
       "      <td>-6.97</td>\n",
       "      <td>GBP</td>\n",
       "      <td>general_banking</td>\n",
       "      <td>Apr</td>\n",
       "    </tr>\n",
       "    <tr>\n",
       "      <th>16126</th>\n",
       "      <td>39550613-a434-4653-9858-b63ce89f3268</td>\n",
       "      <td>e38cbd04-b2d3-4c4d-8caf-95a7fef74af4</td>\n",
       "      <td>77960b18-b3ee-4bbd-895e-12f1b6deb88e</td>\n",
       "      <td>2020-07-19 19:48:21</td>\n",
       "      <td>-800.00</td>\n",
       "      <td>GBP</td>\n",
       "      <td>other_bills</td>\n",
       "      <td>Jul</td>\n",
       "    </tr>\n",
       "    <tr>\n",
       "      <th>16127</th>\n",
       "      <td>c5613070-4664-40e0-af1f-69b06711acda</td>\n",
       "      <td>2e056705-0b72-4906-bef0-e58f0c999a8d</td>\n",
       "      <td>5db242a7-6435-4237-8414-f11b08a86bf8</td>\n",
       "      <td>2020-06-11 00:00:00</td>\n",
       "      <td>-0.25</td>\n",
       "      <td>GBP</td>\n",
       "      <td>other_general</td>\n",
       "      <td>Jun</td>\n",
       "    </tr>\n",
       "    <tr>\n",
       "      <th>16128</th>\n",
       "      <td>3d7f96bc-52b0-4b6c-bf66-f7492790361b</td>\n",
       "      <td>66dc5220-47ba-4ba1-8899-985152fe93e3</td>\n",
       "      <td>b248e65c-964f-4619-8938-00054e4cbe38</td>\n",
       "      <td>2020-05-11 00:00:00</td>\n",
       "      <td>-18.00</td>\n",
       "      <td>GBP</td>\n",
       "      <td>general_banking</td>\n",
       "      <td>May</td>\n",
       "    </tr>\n",
       "    <tr>\n",
       "      <th>16130</th>\n",
       "      <td>f4733150-4e79-4ef9-acd6-d03b6b3cb215</td>\n",
       "      <td>56c72fe5-0590-4d01-a20f-6bfe5a9aaaf2</td>\n",
       "      <td>0cea3651-31b2-4f50-9baa-a5052716b361</td>\n",
       "      <td>2020-06-18 00:00:00</td>\n",
       "      <td>-37.49</td>\n",
       "      <td>GBP</td>\n",
       "      <td>takeaway</td>\n",
       "      <td>Jun</td>\n",
       "    </tr>\n",
       "  </tbody>\n",
       "</table>\n",
       "<p>13549 rows × 8 columns</p>\n",
       "</div>"
      ],
      "text/plain": [
       "                             transaction_id  \\\n",
       "0      170a95df-cfb2-447e-bf7e-4dc6c3f8359a   \n",
       "1      e96b6614-be03-4dfe-9104-7d147df74ee0   \n",
       "2      7e85e719-5377-4ed2-a3af-1e370bd92c01   \n",
       "4      561840a9-f290-4ffd-952c-abb75ff59f5c   \n",
       "5      a403f405-37f5-4bfa-aec1-ea9f48ce8bd9   \n",
       "...                                     ...   \n",
       "16125  5edef537-1130-4941-99f8-dbd3b00453de   \n",
       "16126  39550613-a434-4653-9858-b63ce89f3268   \n",
       "16127  c5613070-4664-40e0-af1f-69b06711acda   \n",
       "16128  3d7f96bc-52b0-4b6c-bf66-f7492790361b   \n",
       "16130  f4733150-4e79-4ef9-acd6-d03b6b3cb215   \n",
       "\n",
       "                                    user_id  \\\n",
       "0      56c72fe5-0590-4d01-a20f-6bfe5a9aaaf2   \n",
       "1      75e80d46-902f-439c-b1e7-c530457400fe   \n",
       "2      56c72fe5-0590-4d01-a20f-6bfe5a9aaaf2   \n",
       "4      520fafb2-ca7b-44db-94d6-0b3686fbd1ad   \n",
       "5      66dc5220-47ba-4ba1-8899-985152fe93e3   \n",
       "...                                     ...   \n",
       "16125  66dc5220-47ba-4ba1-8899-985152fe93e3   \n",
       "16126  e38cbd04-b2d3-4c4d-8caf-95a7fef74af4   \n",
       "16127  2e056705-0b72-4906-bef0-e58f0c999a8d   \n",
       "16128  66dc5220-47ba-4ba1-8899-985152fe93e3   \n",
       "16130  56c72fe5-0590-4d01-a20f-6bfe5a9aaaf2   \n",
       "\n",
       "                                 account_id transaction_timestamp  amount  \\\n",
       "0      0cea3651-31b2-4f50-9baa-a5052716b361   2020-08-19 00:00:00  -26.95   \n",
       "1      0de94e02-be06-4d5a-ae04-dfae808cf059   2020-07-11 19:32:45  -11.57   \n",
       "2      0cea3651-31b2-4f50-9baa-a5052716b361   2020-07-02 00:00:00  -35.00   \n",
       "4      56b9222f-7ab2-4b1a-b9b5-7196b9a9e6ea   2020-01-17 12:58:54   -0.90   \n",
       "5      b248e65c-964f-4619-8938-00054e4cbe38   2020-09-14 00:00:00  -12.00   \n",
       "...                                     ...                   ...     ...   \n",
       "16125  b248e65c-964f-4619-8938-00054e4cbe38   2020-04-07 00:00:00   -6.97   \n",
       "16126  77960b18-b3ee-4bbd-895e-12f1b6deb88e   2020-07-19 19:48:21 -800.00   \n",
       "16127  5db242a7-6435-4237-8414-f11b08a86bf8   2020-06-11 00:00:00   -0.25   \n",
       "16128  b248e65c-964f-4619-8938-00054e4cbe38   2020-05-11 00:00:00  -18.00   \n",
       "16130  0cea3651-31b2-4f50-9baa-a5052716b361   2020-06-18 00:00:00  -37.49   \n",
       "\n",
       "      currency            category month  \n",
       "0          GBP       other_general   Aug  \n",
       "1          GBP  convenience_stores   Jul  \n",
       "2          GBP       other_general   Jul  \n",
       "4          GBP        supermarkets   Jan  \n",
       "5          GBP    other_eating_out   Sep  \n",
       "...        ...                 ...   ...  \n",
       "16125      GBP     general_banking   Apr  \n",
       "16126      GBP         other_bills   Jul  \n",
       "16127      GBP       other_general   Jun  \n",
       "16128      GBP     general_banking   May  \n",
       "16130      GBP            takeaway   Jun  \n",
       "\n",
       "[13549 rows x 8 columns]"
      ]
     },
     "execution_count": 9,
     "metadata": {},
     "output_type": "execute_result"
    }
   ],
   "source": [
    "#Spendings are outflows from the account, thus we want the negative values \n",
    "spendings = (df['amount'] < 0)\n",
    "df2 = df.loc[spendings]\n",
    "df2"
   ]
  },
  {
   "cell_type": "code",
   "execution_count": 10,
   "metadata": {},
   "outputs": [],
   "source": [
    "# Apply groupby to user id and category and then use the groupby on amounts. \n",
    "# Follow with 2nd groupby on user Id to ensure the nsmallest is applied user by user rather than the entirety of df2 (which would give just 3 results)\n",
    "top_three_spend = df2.groupby(['user_id','category'], as_index=False)['amount'].sum().groupby('user_id').apply(lambda x: x.nsmallest(3,'amount'))\n",
    "\n",
    "#some tidy up to get to what we need\n",
    "top_three_spend = top_three_spend.droplevel(0)\n",
    "top_three_spend= top_three_spend.reset_index().drop(columns={'index','amount'})"
   ]
  },
  {
   "cell_type": "code",
   "execution_count": 11,
   "metadata": {},
   "outputs": [],
   "source": [
    "#set user_id as the index and sort\n",
    "top_three_spend = top_three_spend.set_index(['user_id']).sort_index()"
   ]
  },
  {
   "cell_type": "code",
   "execution_count": 12,
   "metadata": {},
   "outputs": [],
   "source": [
    "#import default dict so we dont have initialise dictionary with empty list \n",
    "from collections import defaultdict\n",
    "\n",
    "my_dict =defaultdict(list)\n",
    "\n",
    "#for loop applies categories into the lists on all of the user ids\n",
    "for i,row in top_three_spend.iterrows():\n",
    "    \n",
    "    my_dict[row.name].append(row.category)"
   ]
  },
  {
   "cell_type": "code",
   "execution_count": 13,
   "metadata": {},
   "outputs": [
    {
     "data": {
      "text/plain": [
       "defaultdict(list,\n",
       "            {'00190202-9539-4df9-8b7e-3461ccabe31c': ['transfers_out',\n",
       "              'credit_cards',\n",
       "              'other_general'],\n",
       "             '04484b98-1dc3-4c87-ae33-fd477a00c2c8': ['credit_cards',\n",
       "              'mortgage_and_rent',\n",
       "              'transfers_out'],\n",
       "             '09519500-db18-4bee-a6fd-01aa5c7f6cd7': ['transfers_out',\n",
       "              'other_finances',\n",
       "              'other_general'],\n",
       "             '14003899-10e9-4765-808b-591b78919168': ['transfers_out',\n",
       "              'mortgage_and_rent',\n",
       "              'other_general'],\n",
       "             '1a1b9688-9d63-4326-983e-51e3d394958b': ['general_banking',\n",
       "              'other_finances',\n",
       "              'credit_cards'],\n",
       "             '1ff9808d-094d-4069-aed1-51ac3c242abd': ['credit_cards',\n",
       "              'other_bills',\n",
       "              'other_finances'],\n",
       "             '2e056705-0b72-4906-bef0-e58f0c999a8d': ['credit_cards',\n",
       "              'mortgage_and_rent',\n",
       "              'other_bills'],\n",
       "             '3ba1a146-5abf-4858-bb61-0ee0651cac03': ['transfers_out',\n",
       "              'other_finances',\n",
       "              'general_banking'],\n",
       "             '4203dbe0-2075-4fd5-b81b-e376ea3d8477': ['transfers_out',\n",
       "              'other_general',\n",
       "              'other_finances'],\n",
       "             '520fafb2-ca7b-44db-94d6-0b3686fbd1ad': ['supermarkets',\n",
       "              'online_shopping',\n",
       "              'other_general'],\n",
       "             '56c72fe5-0590-4d01-a20f-6bfe5a9aaaf2': ['other_finances',\n",
       "              'credit_cards',\n",
       "              'mortgage_and_rent'],\n",
       "             '66dc5220-47ba-4ba1-8899-985152fe93e3': ['transfers_out',\n",
       "              'mortgage_and_rent',\n",
       "              'other_general'],\n",
       "             '6f351a10-1980-458f-906f-4cbf90370ce5': ['other_finances',\n",
       "              'taxes',\n",
       "              'transfers_out'],\n",
       "             '75e80d46-902f-439c-b1e7-c530457400fe': ['investments',\n",
       "              'other_finances',\n",
       "              'credit_cards'],\n",
       "             '8db76143-a6ce-4adc-b934-81ad2de8f12e': ['other_finances',\n",
       "              'transfers_out',\n",
       "              'credit_cards'],\n",
       "             'a53cf823-20a4-45d0-bb09-7984736b97b4': ['transfers_out',\n",
       "              'credit_cards',\n",
       "              'other_travel'],\n",
       "             'cf656f17-c9ee-4f0a-90bf-b679291ea2fe': ['credit_cards',\n",
       "              'other_finances',\n",
       "              'supermarkets'],\n",
       "             'e230dc7c-723f-4f9f-a7e0-baabfdeb3a9a': ['other_finances',\n",
       "              'mortgage_and_rent',\n",
       "              'credit_cards'],\n",
       "             'e38cbd04-b2d3-4c4d-8caf-95a7fef74af4': ['transfers_out',\n",
       "              'mortgage_and_rent',\n",
       "              'other_finances'],\n",
       "             'eeb03060-65ee-4078-bd92-1970e11ae58f': ['credit_cards',\n",
       "              'transfers_out',\n",
       "              'mortgage_and_rent']})"
      ]
     },
     "execution_count": 13,
     "metadata": {},
     "output_type": "execute_result"
    }
   ],
   "source": [
    "#dictionary output with key as user id \n",
    "my_dict\n",
    "#END of Question 4"
   ]
  },
  {
   "cell_type": "markdown",
   "metadata": {},
   "source": [
    "### 5) Calculate the net cash flow (sum of `amount`) for each user in each calendar month"
   ]
  },
  {
   "cell_type": "code",
   "execution_count": 14,
   "metadata": {},
   "outputs": [
    {
     "data": {
      "text/html": [
       "<div>\n",
       "<style scoped>\n",
       "    .dataframe tbody tr th:only-of-type {\n",
       "        vertical-align: middle;\n",
       "    }\n",
       "\n",
       "    .dataframe tbody tr th {\n",
       "        vertical-align: top;\n",
       "    }\n",
       "\n",
       "    .dataframe thead th {\n",
       "        text-align: right;\n",
       "    }\n",
       "</style>\n",
       "<table border=\"1\" class=\"dataframe\">\n",
       "  <thead>\n",
       "    <tr style=\"text-align: right;\">\n",
       "      <th>month</th>\n",
       "      <th>Jan</th>\n",
       "      <th>Feb</th>\n",
       "      <th>Mar</th>\n",
       "      <th>Apr</th>\n",
       "      <th>May</th>\n",
       "      <th>Jun</th>\n",
       "      <th>Jul</th>\n",
       "      <th>Aug</th>\n",
       "      <th>Sep</th>\n",
       "    </tr>\n",
       "    <tr>\n",
       "      <th>user_id</th>\n",
       "      <th></th>\n",
       "      <th></th>\n",
       "      <th></th>\n",
       "      <th></th>\n",
       "      <th></th>\n",
       "      <th></th>\n",
       "      <th></th>\n",
       "      <th></th>\n",
       "      <th></th>\n",
       "    </tr>\n",
       "  </thead>\n",
       "  <tbody>\n",
       "    <tr>\n",
       "      <th>00190202-9539-4df9-8b7e-3461ccabe31c</th>\n",
       "      <td>453.82</td>\n",
       "      <td>-75.69</td>\n",
       "      <td>4332.94</td>\n",
       "      <td>876.47</td>\n",
       "      <td>1859.21</td>\n",
       "      <td>-1996.82</td>\n",
       "      <td>408.19</td>\n",
       "      <td>-3084.32</td>\n",
       "      <td>-78.87</td>\n",
       "    </tr>\n",
       "    <tr>\n",
       "      <th>04484b98-1dc3-4c87-ae33-fd477a00c2c8</th>\n",
       "      <td>-5001.88</td>\n",
       "      <td>-229.96</td>\n",
       "      <td>-2245.29</td>\n",
       "      <td>2083.84</td>\n",
       "      <td>1858.87</td>\n",
       "      <td>2211.17</td>\n",
       "      <td>-65.19</td>\n",
       "      <td>609.79</td>\n",
       "      <td>3435.58</td>\n",
       "    </tr>\n",
       "    <tr>\n",
       "      <th>09519500-db18-4bee-a6fd-01aa5c7f6cd7</th>\n",
       "      <td>-1991.11</td>\n",
       "      <td>-533.00</td>\n",
       "      <td>2263.21</td>\n",
       "      <td>5129.45</td>\n",
       "      <td>921.14</td>\n",
       "      <td>1067.82</td>\n",
       "      <td>2449.28</td>\n",
       "      <td>2337.57</td>\n",
       "      <td>-1826.77</td>\n",
       "    </tr>\n",
       "    <tr>\n",
       "      <th>14003899-10e9-4765-808b-591b78919168</th>\n",
       "      <td>-1298.07</td>\n",
       "      <td>3425.93</td>\n",
       "      <td>2489.36</td>\n",
       "      <td>-1034.76</td>\n",
       "      <td>2417.21</td>\n",
       "      <td>3112.71</td>\n",
       "      <td>-8654.27</td>\n",
       "      <td>3263.64</td>\n",
       "      <td>-2484.64</td>\n",
       "    </tr>\n",
       "    <tr>\n",
       "      <th>1a1b9688-9d63-4326-983e-51e3d394958b</th>\n",
       "      <td>-9969.09</td>\n",
       "      <td>-732.51</td>\n",
       "      <td>6730.09</td>\n",
       "      <td>10583.09</td>\n",
       "      <td>-6216.87</td>\n",
       "      <td>-3783.49</td>\n",
       "      <td>4367.95</td>\n",
       "      <td>-2415.82</td>\n",
       "      <td>3954.26</td>\n",
       "    </tr>\n",
       "    <tr>\n",
       "      <th>1ff9808d-094d-4069-aed1-51ac3c242abd</th>\n",
       "      <td>208.74</td>\n",
       "      <td>1879.96</td>\n",
       "      <td>-694.62</td>\n",
       "      <td>-872.87</td>\n",
       "      <td>586.33</td>\n",
       "      <td>-20.34</td>\n",
       "      <td>-819.82</td>\n",
       "      <td>-1741.43</td>\n",
       "      <td>587.61</td>\n",
       "    </tr>\n",
       "    <tr>\n",
       "      <th>2e056705-0b72-4906-bef0-e58f0c999a8d</th>\n",
       "      <td>15219.97</td>\n",
       "      <td>-4233.14</td>\n",
       "      <td>3548.17</td>\n",
       "      <td>3059.22</td>\n",
       "      <td>1474.76</td>\n",
       "      <td>1330.75</td>\n",
       "      <td>18185.17</td>\n",
       "      <td>-2006.55</td>\n",
       "      <td>495.94</td>\n",
       "    </tr>\n",
       "    <tr>\n",
       "      <th>3ba1a146-5abf-4858-bb61-0ee0651cac03</th>\n",
       "      <td>-847.65</td>\n",
       "      <td>1572.63</td>\n",
       "      <td>1266.79</td>\n",
       "      <td>-2100.96</td>\n",
       "      <td>-9.92</td>\n",
       "      <td>-77.36</td>\n",
       "      <td>10.12</td>\n",
       "      <td>-199.39</td>\n",
       "      <td>-1655.09</td>\n",
       "    </tr>\n",
       "    <tr>\n",
       "      <th>4203dbe0-2075-4fd5-b81b-e376ea3d8477</th>\n",
       "      <td>525.09</td>\n",
       "      <td>2090.94</td>\n",
       "      <td>-454.02</td>\n",
       "      <td>550.85</td>\n",
       "      <td>984.16</td>\n",
       "      <td>106.56</td>\n",
       "      <td>-2989.40</td>\n",
       "      <td>-103.90</td>\n",
       "      <td>2663.73</td>\n",
       "    </tr>\n",
       "    <tr>\n",
       "      <th>520fafb2-ca7b-44db-94d6-0b3686fbd1ad</th>\n",
       "      <td>83.79</td>\n",
       "      <td>-9.63</td>\n",
       "      <td>-0.61</td>\n",
       "      <td>14.40</td>\n",
       "      <td>174.23</td>\n",
       "      <td>-166.58</td>\n",
       "      <td>-78.77</td>\n",
       "      <td>160.15</td>\n",
       "      <td>-118.35</td>\n",
       "    </tr>\n",
       "    <tr>\n",
       "      <th>56c72fe5-0590-4d01-a20f-6bfe5a9aaaf2</th>\n",
       "      <td>887.33</td>\n",
       "      <td>-725.64</td>\n",
       "      <td>-31.17</td>\n",
       "      <td>-40.50</td>\n",
       "      <td>-344.02</td>\n",
       "      <td>459.06</td>\n",
       "      <td>-967.32</td>\n",
       "      <td>399.72</td>\n",
       "      <td>370.33</td>\n",
       "    </tr>\n",
       "    <tr>\n",
       "      <th>66dc5220-47ba-4ba1-8899-985152fe93e3</th>\n",
       "      <td>-3039.14</td>\n",
       "      <td>1724.54</td>\n",
       "      <td>-328.77</td>\n",
       "      <td>-42.45</td>\n",
       "      <td>210.35</td>\n",
       "      <td>116.01</td>\n",
       "      <td>5.28</td>\n",
       "      <td>-72.26</td>\n",
       "      <td>-1032.31</td>\n",
       "    </tr>\n",
       "    <tr>\n",
       "      <th>6f351a10-1980-458f-906f-4cbf90370ce5</th>\n",
       "      <td>-6336.47</td>\n",
       "      <td>6306.49</td>\n",
       "      <td>-4025.60</td>\n",
       "      <td>1651.70</td>\n",
       "      <td>2182.87</td>\n",
       "      <td>288.29</td>\n",
       "      <td>1919.60</td>\n",
       "      <td>3868.61</td>\n",
       "      <td>-4253.18</td>\n",
       "    </tr>\n",
       "    <tr>\n",
       "      <th>75e80d46-902f-439c-b1e7-c530457400fe</th>\n",
       "      <td>43517.74</td>\n",
       "      <td>-50654.58</td>\n",
       "      <td>983.20</td>\n",
       "      <td>-8974.65</td>\n",
       "      <td>7635.06</td>\n",
       "      <td>813.37</td>\n",
       "      <td>3129.38</td>\n",
       "      <td>7545.37</td>\n",
       "      <td>-17479.89</td>\n",
       "    </tr>\n",
       "    <tr>\n",
       "      <th>8db76143-a6ce-4adc-b934-81ad2de8f12e</th>\n",
       "      <td>-147.93</td>\n",
       "      <td>222.28</td>\n",
       "      <td>27.51</td>\n",
       "      <td>327.45</td>\n",
       "      <td>-265.05</td>\n",
       "      <td>-231.90</td>\n",
       "      <td>-44.38</td>\n",
       "      <td>457.08</td>\n",
       "      <td>-79.02</td>\n",
       "    </tr>\n",
       "    <tr>\n",
       "      <th>a53cf823-20a4-45d0-bb09-7984736b97b4</th>\n",
       "      <td>1123.63</td>\n",
       "      <td>644.27</td>\n",
       "      <td>455.35</td>\n",
       "      <td>1906.11</td>\n",
       "      <td>2562.10</td>\n",
       "      <td>2242.66</td>\n",
       "      <td>15.81</td>\n",
       "      <td>13.34</td>\n",
       "      <td>-73.93</td>\n",
       "    </tr>\n",
       "    <tr>\n",
       "      <th>cf656f17-c9ee-4f0a-90bf-b679291ea2fe</th>\n",
       "      <td>804.65</td>\n",
       "      <td>1324.98</td>\n",
       "      <td>2331.41</td>\n",
       "      <td>2065.46</td>\n",
       "      <td>2224.57</td>\n",
       "      <td>2922.57</td>\n",
       "      <td>2697.32</td>\n",
       "      <td>313.39</td>\n",
       "      <td>847.87</td>\n",
       "    </tr>\n",
       "    <tr>\n",
       "      <th>e230dc7c-723f-4f9f-a7e0-baabfdeb3a9a</th>\n",
       "      <td>-1724.15</td>\n",
       "      <td>-234.01</td>\n",
       "      <td>1713.05</td>\n",
       "      <td>-1125.29</td>\n",
       "      <td>-742.58</td>\n",
       "      <td>5931.37</td>\n",
       "      <td>-46.84</td>\n",
       "      <td>0.00</td>\n",
       "      <td>-5204.44</td>\n",
       "    </tr>\n",
       "    <tr>\n",
       "      <th>e38cbd04-b2d3-4c4d-8caf-95a7fef74af4</th>\n",
       "      <td>1244.47</td>\n",
       "      <td>241.42</td>\n",
       "      <td>371.39</td>\n",
       "      <td>321.36</td>\n",
       "      <td>-721.75</td>\n",
       "      <td>-739.51</td>\n",
       "      <td>-827.51</td>\n",
       "      <td>-34.70</td>\n",
       "      <td>39.74</td>\n",
       "    </tr>\n",
       "    <tr>\n",
       "      <th>eeb03060-65ee-4078-bd92-1970e11ae58f</th>\n",
       "      <td>181.62</td>\n",
       "      <td>-528.27</td>\n",
       "      <td>744.65</td>\n",
       "      <td>1351.18</td>\n",
       "      <td>1332.38</td>\n",
       "      <td>2735.17</td>\n",
       "      <td>-605.77</td>\n",
       "      <td>1119.95</td>\n",
       "      <td>-3177.80</td>\n",
       "    </tr>\n",
       "  </tbody>\n",
       "</table>\n",
       "</div>"
      ],
      "text/plain": [
       "month                                      Jan       Feb      Mar       Apr  \\\n",
       "user_id                                                                       \n",
       "00190202-9539-4df9-8b7e-3461ccabe31c    453.82    -75.69  4332.94    876.47   \n",
       "04484b98-1dc3-4c87-ae33-fd477a00c2c8  -5001.88   -229.96 -2245.29   2083.84   \n",
       "09519500-db18-4bee-a6fd-01aa5c7f6cd7  -1991.11   -533.00  2263.21   5129.45   \n",
       "14003899-10e9-4765-808b-591b78919168  -1298.07   3425.93  2489.36  -1034.76   \n",
       "1a1b9688-9d63-4326-983e-51e3d394958b  -9969.09   -732.51  6730.09  10583.09   \n",
       "1ff9808d-094d-4069-aed1-51ac3c242abd    208.74   1879.96  -694.62   -872.87   \n",
       "2e056705-0b72-4906-bef0-e58f0c999a8d  15219.97  -4233.14  3548.17   3059.22   \n",
       "3ba1a146-5abf-4858-bb61-0ee0651cac03   -847.65   1572.63  1266.79  -2100.96   \n",
       "4203dbe0-2075-4fd5-b81b-e376ea3d8477    525.09   2090.94  -454.02    550.85   \n",
       "520fafb2-ca7b-44db-94d6-0b3686fbd1ad     83.79     -9.63    -0.61     14.40   \n",
       "56c72fe5-0590-4d01-a20f-6bfe5a9aaaf2    887.33   -725.64   -31.17    -40.50   \n",
       "66dc5220-47ba-4ba1-8899-985152fe93e3  -3039.14   1724.54  -328.77    -42.45   \n",
       "6f351a10-1980-458f-906f-4cbf90370ce5  -6336.47   6306.49 -4025.60   1651.70   \n",
       "75e80d46-902f-439c-b1e7-c530457400fe  43517.74 -50654.58   983.20  -8974.65   \n",
       "8db76143-a6ce-4adc-b934-81ad2de8f12e   -147.93    222.28    27.51    327.45   \n",
       "a53cf823-20a4-45d0-bb09-7984736b97b4   1123.63    644.27   455.35   1906.11   \n",
       "cf656f17-c9ee-4f0a-90bf-b679291ea2fe    804.65   1324.98  2331.41   2065.46   \n",
       "e230dc7c-723f-4f9f-a7e0-baabfdeb3a9a  -1724.15   -234.01  1713.05  -1125.29   \n",
       "e38cbd04-b2d3-4c4d-8caf-95a7fef74af4   1244.47    241.42   371.39    321.36   \n",
       "eeb03060-65ee-4078-bd92-1970e11ae58f    181.62   -528.27   744.65   1351.18   \n",
       "\n",
       "month                                     May      Jun       Jul      Aug  \\\n",
       "user_id                                                                     \n",
       "00190202-9539-4df9-8b7e-3461ccabe31c  1859.21 -1996.82    408.19 -3084.32   \n",
       "04484b98-1dc3-4c87-ae33-fd477a00c2c8  1858.87  2211.17    -65.19   609.79   \n",
       "09519500-db18-4bee-a6fd-01aa5c7f6cd7   921.14  1067.82   2449.28  2337.57   \n",
       "14003899-10e9-4765-808b-591b78919168  2417.21  3112.71  -8654.27  3263.64   \n",
       "1a1b9688-9d63-4326-983e-51e3d394958b -6216.87 -3783.49   4367.95 -2415.82   \n",
       "1ff9808d-094d-4069-aed1-51ac3c242abd   586.33   -20.34   -819.82 -1741.43   \n",
       "2e056705-0b72-4906-bef0-e58f0c999a8d  1474.76  1330.75  18185.17 -2006.55   \n",
       "3ba1a146-5abf-4858-bb61-0ee0651cac03    -9.92   -77.36     10.12  -199.39   \n",
       "4203dbe0-2075-4fd5-b81b-e376ea3d8477   984.16   106.56  -2989.40  -103.90   \n",
       "520fafb2-ca7b-44db-94d6-0b3686fbd1ad   174.23  -166.58    -78.77   160.15   \n",
       "56c72fe5-0590-4d01-a20f-6bfe5a9aaaf2  -344.02   459.06   -967.32   399.72   \n",
       "66dc5220-47ba-4ba1-8899-985152fe93e3   210.35   116.01      5.28   -72.26   \n",
       "6f351a10-1980-458f-906f-4cbf90370ce5  2182.87   288.29   1919.60  3868.61   \n",
       "75e80d46-902f-439c-b1e7-c530457400fe  7635.06   813.37   3129.38  7545.37   \n",
       "8db76143-a6ce-4adc-b934-81ad2de8f12e  -265.05  -231.90    -44.38   457.08   \n",
       "a53cf823-20a4-45d0-bb09-7984736b97b4  2562.10  2242.66     15.81    13.34   \n",
       "cf656f17-c9ee-4f0a-90bf-b679291ea2fe  2224.57  2922.57   2697.32   313.39   \n",
       "e230dc7c-723f-4f9f-a7e0-baabfdeb3a9a  -742.58  5931.37    -46.84     0.00   \n",
       "e38cbd04-b2d3-4c4d-8caf-95a7fef74af4  -721.75  -739.51   -827.51   -34.70   \n",
       "eeb03060-65ee-4078-bd92-1970e11ae58f  1332.38  2735.17   -605.77  1119.95   \n",
       "\n",
       "month                                      Sep  \n",
       "user_id                                         \n",
       "00190202-9539-4df9-8b7e-3461ccabe31c    -78.87  \n",
       "04484b98-1dc3-4c87-ae33-fd477a00c2c8   3435.58  \n",
       "09519500-db18-4bee-a6fd-01aa5c7f6cd7  -1826.77  \n",
       "14003899-10e9-4765-808b-591b78919168  -2484.64  \n",
       "1a1b9688-9d63-4326-983e-51e3d394958b   3954.26  \n",
       "1ff9808d-094d-4069-aed1-51ac3c242abd    587.61  \n",
       "2e056705-0b72-4906-bef0-e58f0c999a8d    495.94  \n",
       "3ba1a146-5abf-4858-bb61-0ee0651cac03  -1655.09  \n",
       "4203dbe0-2075-4fd5-b81b-e376ea3d8477   2663.73  \n",
       "520fafb2-ca7b-44db-94d6-0b3686fbd1ad   -118.35  \n",
       "56c72fe5-0590-4d01-a20f-6bfe5a9aaaf2    370.33  \n",
       "66dc5220-47ba-4ba1-8899-985152fe93e3  -1032.31  \n",
       "6f351a10-1980-458f-906f-4cbf90370ce5  -4253.18  \n",
       "75e80d46-902f-439c-b1e7-c530457400fe -17479.89  \n",
       "8db76143-a6ce-4adc-b934-81ad2de8f12e    -79.02  \n",
       "a53cf823-20a4-45d0-bb09-7984736b97b4    -73.93  \n",
       "cf656f17-c9ee-4f0a-90bf-b679291ea2fe    847.87  \n",
       "e230dc7c-723f-4f9f-a7e0-baabfdeb3a9a  -5204.44  \n",
       "e38cbd04-b2d3-4c4d-8caf-95a7fef74af4     39.74  \n",
       "eeb03060-65ee-4078-bd92-1970e11ae58f  -3177.80  "
      ]
     },
     "execution_count": 14,
     "metadata": {},
     "output_type": "execute_result"
    }
   ],
   "source": [
    "# Groupby user_id and the month column we created earlier\n",
    "month_user_id = df.groupby(['user_id', 'month'])\n",
    "\n",
    "#sum the amounts in each group and then reset index to create dataframe\n",
    "month_cf = month_user_id['amount'].sum().reset_index()\n",
    "\n",
    "#pivot to make it easier to view and months pivot onto the x axis \n",
    "month_cf_clean = month_cf.pivot(index='user_id', columns = 'month', values= 'amount')\n",
    "month_cf_clean"
   ]
  },
  {
   "cell_type": "markdown",
   "metadata": {},
   "source": [
    "### 6) Find the user whose has a positive monthly net cashflow every month, and plot their monthly net cashflows on a graph"
   ]
  },
  {
   "cell_type": "code",
   "execution_count": 15,
   "metadata": {},
   "outputs": [],
   "source": [
    "# cf = cash flow \n",
    "# We want users where amount is greater than 0 (positive cash flow) and thus we carry out a count by month where amount is greater than 0\n",
    "num_pos_month_cf = month_cf[month_cf['amount'] > 0].groupby('user_id').count()['month'] \n",
    "\n",
    "#If cash flow is positive for all 9 months we keep this row and drop the rest since they output as NaN\n",
    "client_with_all_pos_cf = num_pos_month_cf.where(num_pos_month_cf == 9).dropna().index "
   ]
  },
  {
   "cell_type": "code",
   "execution_count": 16,
   "metadata": {},
   "outputs": [
    {
     "data": {
      "text/html": [
       "<div>\n",
       "<style scoped>\n",
       "    .dataframe tbody tr th:only-of-type {\n",
       "        vertical-align: middle;\n",
       "    }\n",
       "\n",
       "    .dataframe tbody tr th {\n",
       "        vertical-align: top;\n",
       "    }\n",
       "\n",
       "    .dataframe thead th {\n",
       "        text-align: right;\n",
       "    }\n",
       "</style>\n",
       "<table border=\"1\" class=\"dataframe\">\n",
       "  <thead>\n",
       "    <tr style=\"text-align: right;\">\n",
       "      <th>month</th>\n",
       "      <th>Jan</th>\n",
       "      <th>Feb</th>\n",
       "      <th>Mar</th>\n",
       "      <th>Apr</th>\n",
       "      <th>May</th>\n",
       "      <th>Jun</th>\n",
       "      <th>Jul</th>\n",
       "      <th>Aug</th>\n",
       "      <th>Sep</th>\n",
       "    </tr>\n",
       "    <tr>\n",
       "      <th>user_id</th>\n",
       "      <th></th>\n",
       "      <th></th>\n",
       "      <th></th>\n",
       "      <th></th>\n",
       "      <th></th>\n",
       "      <th></th>\n",
       "      <th></th>\n",
       "      <th></th>\n",
       "      <th></th>\n",
       "    </tr>\n",
       "  </thead>\n",
       "  <tbody>\n",
       "    <tr>\n",
       "      <th>cf656f17-c9ee-4f0a-90bf-b679291ea2fe</th>\n",
       "      <td>804.65</td>\n",
       "      <td>1324.98</td>\n",
       "      <td>2331.41</td>\n",
       "      <td>2065.46</td>\n",
       "      <td>2224.57</td>\n",
       "      <td>2922.57</td>\n",
       "      <td>2697.32</td>\n",
       "      <td>313.39</td>\n",
       "      <td>847.87</td>\n",
       "    </tr>\n",
       "  </tbody>\n",
       "</table>\n",
       "</div>"
      ],
      "text/plain": [
       "month                                    Jan      Feb      Mar      Apr  \\\n",
       "user_id                                                                   \n",
       "cf656f17-c9ee-4f0a-90bf-b679291ea2fe  804.65  1324.98  2331.41  2065.46   \n",
       "\n",
       "month                                     May      Jun      Jul     Aug  \\\n",
       "user_id                                                                   \n",
       "cf656f17-c9ee-4f0a-90bf-b679291ea2fe  2224.57  2922.57  2697.32  313.39   \n",
       "\n",
       "month                                    Sep  \n",
       "user_id                                       \n",
       "cf656f17-c9ee-4f0a-90bf-b679291ea2fe  847.87  "
      ]
     },
     "execution_count": 16,
     "metadata": {},
     "output_type": "execute_result"
    }
   ],
   "source": [
    "#we use loc on the filter we've just created to show cf where all 9 months are positive\n",
    "month_cf_clean.loc[client_with_all_pos_cf]"
   ]
  },
  {
   "cell_type": "code",
   "execution_count": 17,
   "metadata": {},
   "outputs": [
    {
     "data": {
      "text/html": [
       "<div>\n",
       "<style scoped>\n",
       "    .dataframe tbody tr th:only-of-type {\n",
       "        vertical-align: middle;\n",
       "    }\n",
       "\n",
       "    .dataframe tbody tr th {\n",
       "        vertical-align: top;\n",
       "    }\n",
       "\n",
       "    .dataframe thead th {\n",
       "        text-align: right;\n",
       "    }\n",
       "</style>\n",
       "<table border=\"1\" class=\"dataframe\">\n",
       "  <thead>\n",
       "    <tr style=\"text-align: right;\">\n",
       "      <th>month</th>\n",
       "      <th>Jan</th>\n",
       "      <th>Feb</th>\n",
       "      <th>Mar</th>\n",
       "      <th>Apr</th>\n",
       "      <th>May</th>\n",
       "      <th>Jun</th>\n",
       "      <th>Jul</th>\n",
       "      <th>Aug</th>\n",
       "      <th>Sep</th>\n",
       "    </tr>\n",
       "    <tr>\n",
       "      <th>user_id</th>\n",
       "      <th></th>\n",
       "      <th></th>\n",
       "      <th></th>\n",
       "      <th></th>\n",
       "      <th></th>\n",
       "      <th></th>\n",
       "      <th></th>\n",
       "      <th></th>\n",
       "      <th></th>\n",
       "    </tr>\n",
       "  </thead>\n",
       "  <tbody>\n",
       "    <tr>\n",
       "      <th>cf656f17-c9ee-4f0a-90bf-b679291ea2fe</th>\n",
       "      <td>804.65</td>\n",
       "      <td>1324.98</td>\n",
       "      <td>2331.41</td>\n",
       "      <td>2065.46</td>\n",
       "      <td>2224.57</td>\n",
       "      <td>2922.57</td>\n",
       "      <td>2697.32</td>\n",
       "      <td>313.39</td>\n",
       "      <td>847.87</td>\n",
       "    </tr>\n",
       "  </tbody>\n",
       "</table>\n",
       "</div>"
      ],
      "text/plain": [
       "month                                    Jan      Feb      Mar      Apr  \\\n",
       "user_id                                                                   \n",
       "cf656f17-c9ee-4f0a-90bf-b679291ea2fe  804.65  1324.98  2331.41  2065.46   \n",
       "\n",
       "month                                     May      Jun      Jul     Aug  \\\n",
       "user_id                                                                   \n",
       "cf656f17-c9ee-4f0a-90bf-b679291ea2fe  2224.57  2922.57  2697.32  313.39   \n",
       "\n",
       "month                                    Sep  \n",
       "user_id                                       \n",
       "cf656f17-c9ee-4f0a-90bf-b679291ea2fe  847.87  "
      ]
     },
     "execution_count": 17,
     "metadata": {},
     "output_type": "execute_result"
    }
   ],
   "source": [
    "# A different way to do question 6 in a less code method\n",
    "# We want positive cashflow in every single month and thus each net value needs to be greater than 0\n",
    "always_positive_cf = month_cf_clean.query('Jan > 0 and Feb > 0 and Mar > 0 and Apr > 0 and May > 0 and Jun >0 and Jul > 0 and Aug > 0 and Sep > 0')\n",
    "\n",
    "#wide form data\n",
    "always_positive_cf"
   ]
  },
  {
   "cell_type": "code",
   "execution_count": 18,
   "metadata": {},
   "outputs": [
    {
     "data": {
      "text/plain": [
       "(0.0, 3000.0)"
      ]
     },
     "execution_count": 18,
     "metadata": {},
     "output_type": "execute_result"
    },
    {
     "data": {
      "image/png": "[encoded data removed]",
      "text/plain": [
       "<Figure size 595.1x360 with 1 Axes>"
      ]
     },
     "metadata": {},
     "output_type": "display_data"
    }
   ],
   "source": [
    "#Question 6 cont\n",
    "always_positive_cf = always_positive_cf.T\n",
    "\n",
    "# Visualise using seaborn, using relplot since no specific x and y values as we would when using sns.lineplot\n",
    "sns.set_theme(style='darkgrid')\n",
    "ax = sns.relplot(data = always_positive_cf, kind='line', lw = 2)\n",
    "\n",
    "#remove legend since only one user + other formatting\n",
    "ax.legend.remove()\n",
    "plt.ylabel('Cash Flow (£)')\n",
    "plt.title('User with positive monthly net cash flow', weight = 'semibold')\n",
    "plt.ylim(0, 3000)"
   ]
  },
  {
   "cell_type": "markdown",
   "metadata": {},
   "source": [
    "### 7) Pick a category and visualise the trend over time"
   ]
  },
  {
   "cell_type": "code",
   "execution_count": 19,
   "metadata": {},
   "outputs": [],
   "source": [
    "#Plotting a category trend\n",
    "trends = df.groupby(['user_id', 'category','month'])['amount'].sum().reset_index()"
   ]
  },
  {
   "cell_type": "code",
   "execution_count": 20,
   "metadata": {},
   "outputs": [
    {
     "data": {
      "text/html": [
       "<div>\n",
       "<style scoped>\n",
       "    .dataframe tbody tr th:only-of-type {\n",
       "        vertical-align: middle;\n",
       "    }\n",
       "\n",
       "    .dataframe tbody tr th {\n",
       "        vertical-align: top;\n",
       "    }\n",
       "\n",
       "    .dataframe thead th {\n",
       "        text-align: right;\n",
       "    }\n",
       "</style>\n",
       "<table border=\"1\" class=\"dataframe\">\n",
       "  <thead>\n",
       "    <tr style=\"text-align: right;\">\n",
       "      <th></th>\n",
       "      <th>user_id</th>\n",
       "      <th>category</th>\n",
       "      <th>month</th>\n",
       "      <th>amount</th>\n",
       "    </tr>\n",
       "  </thead>\n",
       "  <tbody>\n",
       "    <tr>\n",
       "      <th>0</th>\n",
       "      <td>00190202-9539-4df9-8b7e-3461ccabe31c</td>\n",
       "      <td>gym_and_fitness</td>\n",
       "      <td>Jan</td>\n",
       "      <td>-32.5</td>\n",
       "    </tr>\n",
       "    <tr>\n",
       "      <th>1</th>\n",
       "      <td>00190202-9539-4df9-8b7e-3461ccabe31c</td>\n",
       "      <td>gym_and_fitness</td>\n",
       "      <td>Feb</td>\n",
       "      <td>-32.5</td>\n",
       "    </tr>\n",
       "    <tr>\n",
       "      <th>2</th>\n",
       "      <td>00190202-9539-4df9-8b7e-3461ccabe31c</td>\n",
       "      <td>gym_and_fitness</td>\n",
       "      <td>Mar</td>\n",
       "      <td>-32.5</td>\n",
       "    </tr>\n",
       "    <tr>\n",
       "      <th>3</th>\n",
       "      <td>00190202-9539-4df9-8b7e-3461ccabe31c</td>\n",
       "      <td>gym_and_fitness</td>\n",
       "      <td>Apr</td>\n",
       "      <td>0.0</td>\n",
       "    </tr>\n",
       "    <tr>\n",
       "      <th>4</th>\n",
       "      <td>00190202-9539-4df9-8b7e-3461ccabe31c</td>\n",
       "      <td>gym_and_fitness</td>\n",
       "      <td>May</td>\n",
       "      <td>0.0</td>\n",
       "    </tr>\n",
       "  </tbody>\n",
       "</table>\n",
       "</div>"
      ],
      "text/plain": [
       "                                user_id         category month  amount\n",
       "0  00190202-9539-4df9-8b7e-3461ccabe31c  gym_and_fitness   Jan   -32.5\n",
       "1  00190202-9539-4df9-8b7e-3461ccabe31c  gym_and_fitness   Feb   -32.5\n",
       "2  00190202-9539-4df9-8b7e-3461ccabe31c  gym_and_fitness   Mar   -32.5\n",
       "3  00190202-9539-4df9-8b7e-3461ccabe31c  gym_and_fitness   Apr     0.0\n",
       "4  00190202-9539-4df9-8b7e-3461ccabe31c  gym_and_fitness   May     0.0"
      ]
     },
     "execution_count": 20,
     "metadata": {},
     "output_type": "execute_result"
    }
   ],
   "source": [
    "#Filter category by trend\n",
    "trend_plot = trends.query(\"category =='gym_and_fitness'\").reset_index(drop=True)\n",
    "trend_plot.head()"
   ]
  },
  {
   "cell_type": "code",
   "execution_count": 21,
   "metadata": {},
   "outputs": [],
   "source": [
    "#absolute value since we want to plot positives on the graph for clean visualisation\n",
    "trend_plot['amount'] = trend_plot['amount'].abs()"
   ]
  },
  {
   "cell_type": "code",
   "execution_count": 22,
   "metadata": {},
   "outputs": [
    {
     "data": {
      "application/vnd.plotly.v1+json": {
       "config": {
        "plotlyServerURL": "https://plot.ly"
       },
       "data": [
        {
         "hovertemplate": "User ID=00190202-9539-4df9-8b7e-3461ccabe31c<br>Month=%{x}<br>Spending (£)=%{y}<extra></extra>",
         "legendgroup": "00190202-9539-4df9-8b7e-3461ccabe31c",
         "line": {
          "color": "#636efa",
          "dash": "solid"
         },
         "marker": {
          "symbol": "circle"
         },
         "mode": "lines",
         "name": "00190202-9539-4df9-8b7e-3461ccabe31c",
         "orientation": "v",
         "showlegend": true,
         "type": "scatter",
         "x": [
          "Jan",
          "Feb",
          "Mar",
          "Apr",
          "May",
          "Jun",
          "Jul",
          "Aug",
          "Sep"
         ],
         "xaxis": "x",
         "y": [
          32.5,
          32.5,
          32.5,
          0,
          0,
          284.97,
          0,
          6,
          0
         ],
         "yaxis": "y"
        },
        {
         "hovertemplate": "User ID=04484b98-1dc3-4c87-ae33-fd477a00c2c8<br>Month=%{x}<br>Spending (£)=%{y}<extra></extra>",
         "legendgroup": "04484b98-1dc3-4c87-ae33-fd477a00c2c8",
         "line": {
          "color": "#EF553B",
          "dash": "solid"
         },
         "marker": {
          "symbol": "circle"
         },
         "mode": "lines",
         "name": "04484b98-1dc3-4c87-ae33-fd477a00c2c8",
         "orientation": "v",
         "showlegend": true,
         "type": "scatter",
         "x": [
          "Jan",
          "Feb",
          "Mar",
          "Apr",
          "May",
          "Jun",
          "Jul",
          "Aug",
          "Sep"
         ],
         "xaxis": "x",
         "y": [
          0,
          109.9,
          72,
          0,
          0,
          0,
          0,
          0,
          0
         ],
         "yaxis": "y"
        },
        {
         "hovertemplate": "User ID=09519500-db18-4bee-a6fd-01aa5c7f6cd7<br>Month=%{x}<br>Spending (£)=%{y}<extra></extra>",
         "legendgroup": "09519500-db18-4bee-a6fd-01aa5c7f6cd7",
         "line": {
          "color": "#00cc96",
          "dash": "solid"
         },
         "marker": {
          "symbol": "circle"
         },
         "mode": "lines",
         "name": "09519500-db18-4bee-a6fd-01aa5c7f6cd7",
         "orientation": "v",
         "showlegend": true,
         "type": "scatter",
         "x": [
          "Jan",
          "Feb",
          "Mar",
          "Apr",
          "May",
          "Jun",
          "Jul",
          "Aug",
          "Sep"
         ],
         "xaxis": "x",
         "y": [
          0,
          0,
          0,
          0,
          0,
          0,
          21.75,
          0,
          0
         ],
         "yaxis": "y"
        },
        {
         "hovertemplate": "User ID=14003899-10e9-4765-808b-591b78919168<br>Month=%{x}<br>Spending (£)=%{y}<extra></extra>",
         "legendgroup": "14003899-10e9-4765-808b-591b78919168",
         "line": {
          "color": "#ab63fa",
          "dash": "solid"
         },
         "marker": {
          "symbol": "circle"
         },
         "mode": "lines",
         "name": "14003899-10e9-4765-808b-591b78919168",
         "orientation": "v",
         "showlegend": true,
         "type": "scatter",
         "x": [
          "Jan",
          "Feb",
          "Mar",
          "Apr",
          "May",
          "Jun",
          "Jul",
          "Aug",
          "Sep"
         ],
         "xaxis": "x",
         "y": [
          22.99,
          22.99,
          22.99,
          0,
          0,
          0,
          0,
          20.02,
          22.99
         ],
         "yaxis": "y"
        },
        {
         "hovertemplate": "User ID=1a1b9688-9d63-4326-983e-51e3d394958b<br>Month=%{x}<br>Spending (£)=%{y}<extra></extra>",
         "legendgroup": "1a1b9688-9d63-4326-983e-51e3d394958b",
         "line": {
          "color": "#FFA15A",
          "dash": "solid"
         },
         "marker": {
          "symbol": "circle"
         },
         "mode": "lines",
         "name": "1a1b9688-9d63-4326-983e-51e3d394958b",
         "orientation": "v",
         "showlegend": true,
         "type": "scatter",
         "x": [
          "Jan",
          "Feb",
          "Mar",
          "Apr",
          "May",
          "Jun",
          "Jul",
          "Aug",
          "Sep"
         ],
         "xaxis": "x",
         "y": [
          185.1,
          89.1,
          89.1,
          0,
          0,
          0,
          0,
          7.98,
          145.1
         ],
         "yaxis": "y"
        },
        {
         "hovertemplate": "User ID=1ff9808d-094d-4069-aed1-51ac3c242abd<br>Month=%{x}<br>Spending (£)=%{y}<extra></extra>",
         "legendgroup": "1ff9808d-094d-4069-aed1-51ac3c242abd",
         "line": {
          "color": "#19d3f3",
          "dash": "solid"
         },
         "marker": {
          "symbol": "circle"
         },
         "mode": "lines",
         "name": "1ff9808d-094d-4069-aed1-51ac3c242abd",
         "orientation": "v",
         "showlegend": true,
         "type": "scatter",
         "x": [
          "Jan",
          "Feb",
          "Mar",
          "Apr",
          "May",
          "Jun",
          "Jul",
          "Aug",
          "Sep"
         ],
         "xaxis": "x",
         "y": [
          59.5,
          59.5,
          59.5,
          62.379999999999995,
          0,
          0,
          51.83,
          0,
          0
         ],
         "yaxis": "y"
        },
        {
         "hovertemplate": "User ID=2e056705-0b72-4906-bef0-e58f0c999a8d<br>Month=%{x}<br>Spending (£)=%{y}<extra></extra>",
         "legendgroup": "2e056705-0b72-4906-bef0-e58f0c999a8d",
         "line": {
          "color": "#FF6692",
          "dash": "solid"
         },
         "marker": {
          "symbol": "circle"
         },
         "mode": "lines",
         "name": "2e056705-0b72-4906-bef0-e58f0c999a8d",
         "orientation": "v",
         "showlegend": true,
         "type": "scatter",
         "x": [
          "Jan",
          "Feb",
          "Mar",
          "Apr",
          "May",
          "Jun",
          "Jul",
          "Aug",
          "Sep"
         ],
         "xaxis": "x",
         "y": [
          19.99,
          19.99,
          0,
          0,
          0,
          0,
          17.18,
          19.99,
          19.99
         ],
         "yaxis": "y"
        },
        {
         "hovertemplate": "User ID=3ba1a146-5abf-4858-bb61-0ee0651cac03<br>Month=%{x}<br>Spending (£)=%{y}<extra></extra>",
         "legendgroup": "3ba1a146-5abf-4858-bb61-0ee0651cac03",
         "line": {
          "color": "#B6E880",
          "dash": "solid"
         },
         "marker": {
          "symbol": "circle"
         },
         "mode": "lines",
         "name": "3ba1a146-5abf-4858-bb61-0ee0651cac03",
         "orientation": "v",
         "showlegend": true,
         "type": "scatter",
         "x": [
          "Jan",
          "Feb",
          "Mar",
          "Apr",
          "May",
          "Jun",
          "Jul",
          "Aug",
          "Sep"
         ],
         "xaxis": "x",
         "y": [
          0,
          0,
          0,
          0,
          0,
          0,
          0,
          39.95,
          39.95
         ],
         "yaxis": "y"
        },
        {
         "hovertemplate": "User ID=4203dbe0-2075-4fd5-b81b-e376ea3d8477<br>Month=%{x}<br>Spending (£)=%{y}<extra></extra>",
         "legendgroup": "4203dbe0-2075-4fd5-b81b-e376ea3d8477",
         "line": {
          "color": "#FF97FF",
          "dash": "solid"
         },
         "marker": {
          "symbol": "circle"
         },
         "mode": "lines",
         "name": "4203dbe0-2075-4fd5-b81b-e376ea3d8477",
         "orientation": "v",
         "showlegend": true,
         "type": "scatter",
         "x": [
          "Jan",
          "Feb",
          "Mar",
          "Apr",
          "May",
          "Jun",
          "Jul",
          "Aug",
          "Sep"
         ],
         "xaxis": "x",
         "y": [
          0,
          0,
          0,
          0,
          0,
          0,
          0,
          0,
          0
         ],
         "yaxis": "y"
        },
        {
         "hovertemplate": "User ID=520fafb2-ca7b-44db-94d6-0b3686fbd1ad<br>Month=%{x}<br>Spending (£)=%{y}<extra></extra>",
         "legendgroup": "520fafb2-ca7b-44db-94d6-0b3686fbd1ad",
         "line": {
          "color": "#FECB52",
          "dash": "solid"
         },
         "marker": {
          "symbol": "circle"
         },
         "mode": "lines",
         "name": "520fafb2-ca7b-44db-94d6-0b3686fbd1ad",
         "orientation": "v",
         "showlegend": true,
         "type": "scatter",
         "x": [
          "Jan",
          "Feb",
          "Mar",
          "Apr",
          "May",
          "Jun",
          "Jul",
          "Aug",
          "Sep"
         ],
         "xaxis": "x",
         "y": [
          0,
          0,
          0,
          0,
          0,
          0,
          0,
          0,
          0
         ],
         "yaxis": "y"
        },
        {
         "hovertemplate": "User ID=56c72fe5-0590-4d01-a20f-6bfe5a9aaaf2<br>Month=%{x}<br>Spending (£)=%{y}<extra></extra>",
         "legendgroup": "56c72fe5-0590-4d01-a20f-6bfe5a9aaaf2",
         "line": {
          "color": "#636efa",
          "dash": "solid"
         },
         "marker": {
          "symbol": "circle"
         },
         "mode": "lines",
         "name": "56c72fe5-0590-4d01-a20f-6bfe5a9aaaf2",
         "orientation": "v",
         "showlegend": true,
         "type": "scatter",
         "x": [
          "Jan",
          "Feb",
          "Mar",
          "Apr",
          "May",
          "Jun",
          "Jul",
          "Aug",
          "Sep"
         ],
         "xaxis": "x",
         "y": [
          17,
          24.1,
          72,
          0,
          0,
          0,
          0,
          0,
          0
         ],
         "yaxis": "y"
        },
        {
         "hovertemplate": "User ID=66dc5220-47ba-4ba1-8899-985152fe93e3<br>Month=%{x}<br>Spending (£)=%{y}<extra></extra>",
         "legendgroup": "66dc5220-47ba-4ba1-8899-985152fe93e3",
         "line": {
          "color": "#EF553B",
          "dash": "solid"
         },
         "marker": {
          "symbol": "circle"
         },
         "mode": "lines",
         "name": "66dc5220-47ba-4ba1-8899-985152fe93e3",
         "orientation": "v",
         "showlegend": true,
         "type": "scatter",
         "x": [
          "Jan",
          "Feb",
          "Mar",
          "Apr",
          "May",
          "Jun",
          "Jul",
          "Aug",
          "Sep"
         ],
         "xaxis": "x",
         "y": [
          34.99,
          34.99,
          34.99,
          0,
          0,
          0,
          0,
          25.96,
          34.99
         ],
         "yaxis": "y"
        },
        {
         "hovertemplate": "User ID=6f351a10-1980-458f-906f-4cbf90370ce5<br>Month=%{x}<br>Spending (£)=%{y}<extra></extra>",
         "legendgroup": "6f351a10-1980-458f-906f-4cbf90370ce5",
         "line": {
          "color": "#00cc96",
          "dash": "solid"
         },
         "marker": {
          "symbol": "circle"
         },
         "mode": "lines",
         "name": "6f351a10-1980-458f-906f-4cbf90370ce5",
         "orientation": "v",
         "showlegend": true,
         "type": "scatter",
         "x": [
          "Jan",
          "Feb",
          "Mar",
          "Apr",
          "May",
          "Jun",
          "Jul",
          "Aug",
          "Sep"
         ],
         "xaxis": "x",
         "y": [
          0,
          0,
          0,
          0,
          0,
          0,
          0,
          0,
          0
         ],
         "yaxis": "y"
        },
        {
         "hovertemplate": "User ID=75e80d46-902f-439c-b1e7-c530457400fe<br>Month=%{x}<br>Spending (£)=%{y}<extra></extra>",
         "legendgroup": "75e80d46-902f-439c-b1e7-c530457400fe",
         "line": {
          "color": "#ab63fa",
          "dash": "solid"
         },
         "marker": {
          "symbol": "circle"
         },
         "mode": "lines",
         "name": "75e80d46-902f-439c-b1e7-c530457400fe",
         "orientation": "v",
         "showlegend": true,
         "type": "scatter",
         "x": [
          "Jan",
          "Feb",
          "Mar",
          "Apr",
          "May",
          "Jun",
          "Jul",
          "Aug",
          "Sep"
         ],
         "xaxis": "x",
         "y": [
          0,
          0,
          0,
          0,
          0,
          0,
          0,
          0,
          0
         ],
         "yaxis": "y"
        },
        {
         "hovertemplate": "User ID=8db76143-a6ce-4adc-b934-81ad2de8f12e<br>Month=%{x}<br>Spending (£)=%{y}<extra></extra>",
         "legendgroup": "8db76143-a6ce-4adc-b934-81ad2de8f12e",
         "line": {
          "color": "#FFA15A",
          "dash": "solid"
         },
         "marker": {
          "symbol": "circle"
         },
         "mode": "lines",
         "name": "8db76143-a6ce-4adc-b934-81ad2de8f12e",
         "orientation": "v",
         "showlegend": true,
         "type": "scatter",
         "x": [
          "Jan",
          "Feb",
          "Mar",
          "Apr",
          "May",
          "Jun",
          "Jul",
          "Aug",
          "Sep"
         ],
         "xaxis": "x",
         "y": [
          46,
          46,
          46,
          0,
          0,
          0,
          74.78,
          95.95,
          46
         ],
         "yaxis": "y"
        },
        {
         "hovertemplate": "User ID=a53cf823-20a4-45d0-bb09-7984736b97b4<br>Month=%{x}<br>Spending (£)=%{y}<extra></extra>",
         "legendgroup": "a53cf823-20a4-45d0-bb09-7984736b97b4",
         "line": {
          "color": "#19d3f3",
          "dash": "solid"
         },
         "marker": {
          "symbol": "circle"
         },
         "mode": "lines",
         "name": "a53cf823-20a4-45d0-bb09-7984736b97b4",
         "orientation": "v",
         "showlegend": true,
         "type": "scatter",
         "x": [
          "Jan",
          "Feb",
          "Mar",
          "Apr",
          "May",
          "Jun",
          "Jul",
          "Aug",
          "Sep"
         ],
         "xaxis": "x",
         "y": [
          64,
          64,
          64,
          0,
          0,
          0,
          0,
          0,
          0
         ],
         "yaxis": "y"
        },
        {
         "hovertemplate": "User ID=cf656f17-c9ee-4f0a-90bf-b679291ea2fe<br>Month=%{x}<br>Spending (£)=%{y}<extra></extra>",
         "legendgroup": "cf656f17-c9ee-4f0a-90bf-b679291ea2fe",
         "line": {
          "color": "#FF6692",
          "dash": "solid"
         },
         "marker": {
          "symbol": "circle"
         },
         "mode": "lines",
         "name": "cf656f17-c9ee-4f0a-90bf-b679291ea2fe",
         "orientation": "v",
         "showlegend": true,
         "type": "scatter",
         "x": [
          "Jan",
          "Feb",
          "Mar",
          "Apr",
          "May",
          "Jun",
          "Jul",
          "Aug",
          "Sep"
         ],
         "xaxis": "x",
         "y": [
          0,
          0,
          0,
          0,
          0,
          0,
          0,
          0,
          0
         ],
         "yaxis": "y"
        },
        {
         "hovertemplate": "User ID=e230dc7c-723f-4f9f-a7e0-baabfdeb3a9a<br>Month=%{x}<br>Spending (£)=%{y}<extra></extra>",
         "legendgroup": "e230dc7c-723f-4f9f-a7e0-baabfdeb3a9a",
         "line": {
          "color": "#B6E880",
          "dash": "solid"
         },
         "marker": {
          "symbol": "circle"
         },
         "mode": "lines",
         "name": "e230dc7c-723f-4f9f-a7e0-baabfdeb3a9a",
         "orientation": "v",
         "showlegend": true,
         "type": "scatter",
         "x": [
          "Jan",
          "Feb",
          "Mar",
          "Apr",
          "May",
          "Jun",
          "Jul",
          "Aug",
          "Sep"
         ],
         "xaxis": "x",
         "y": [
          0,
          0,
          0,
          0,
          0,
          0,
          0,
          0,
          0
         ],
         "yaxis": "y"
        },
        {
         "hovertemplate": "User ID=e38cbd04-b2d3-4c4d-8caf-95a7fef74af4<br>Month=%{x}<br>Spending (£)=%{y}<extra></extra>",
         "legendgroup": "e38cbd04-b2d3-4c4d-8caf-95a7fef74af4",
         "line": {
          "color": "#FF97FF",
          "dash": "solid"
         },
         "marker": {
          "symbol": "circle"
         },
         "mode": "lines",
         "name": "e38cbd04-b2d3-4c4d-8caf-95a7fef74af4",
         "orientation": "v",
         "showlegend": true,
         "type": "scatter",
         "x": [
          "Jan",
          "Feb",
          "Mar",
          "Apr",
          "May",
          "Jun",
          "Jul",
          "Aug",
          "Sep"
         ],
         "xaxis": "x",
         "y": [
          0,
          0,
          0,
          0,
          0,
          0,
          0,
          5,
          0
         ],
         "yaxis": "y"
        },
        {
         "hovertemplate": "User ID=eeb03060-65ee-4078-bd92-1970e11ae58f<br>Month=%{x}<br>Spending (£)=%{y}<extra></extra>",
         "legendgroup": "eeb03060-65ee-4078-bd92-1970e11ae58f",
         "line": {
          "color": "#FECB52",
          "dash": "solid"
         },
         "marker": {
          "symbol": "circle"
         },
         "mode": "lines",
         "name": "eeb03060-65ee-4078-bd92-1970e11ae58f",
         "orientation": "v",
         "showlegend": true,
         "type": "scatter",
         "x": [
          "Jan",
          "Feb",
          "Mar",
          "Apr",
          "May",
          "Jun",
          "Jul",
          "Aug",
          "Sep"
         ],
         "xaxis": "x",
         "y": [
          53.95,
          67.8,
          0,
          0,
          0,
          0,
          0,
          0,
          0
         ],
         "yaxis": "y"
        }
       ],
       "layout": {
        "legend": {
         "title": {
          "text": "User ID"
         },
         "tracegroupgap": 0
        },
        "template": {
         "data": {
          "bar": [
           {
            "error_x": {
             "color": "#2a3f5f"
            },
            "error_y": {
             "color": "#2a3f5f"
            },
            "marker": {
             "line": {
              "color": "#E5ECF6",
              "width": 0.5
             },
             "pattern": {
              "fillmode": "overlay",
              "size": 10,
              "solidity": 0.2
             }
            },
            "type": "bar"
           }
          ],
          "barpolar": [
           {
            "marker": {
             "line": {
              "color": "#E5ECF6",
              "width": 0.5
             },
             "pattern": {
              "fillmode": "overlay",
              "size": 10,
              "solidity": 0.2
             }
            },
            "type": "barpolar"
           }
          ],
          "carpet": [
           {
            "aaxis": {
             "endlinecolor": "#2a3f5f",
             "gridcolor": "white",
             "linecolor": "white",
             "minorgridcolor": "white",
             "startlinecolor": "#2a3f5f"
            },
            "baxis": {
             "endlinecolor": "#2a3f5f",
             "gridcolor": "white",
             "linecolor": "white",
             "minorgridcolor": "white",
             "startlinecolor": "#2a3f5f"
            },
            "type": "carpet"
           }
          ],
          "choropleth": [
           {
            "colorbar": {
             "outlinewidth": 0,
             "ticks": ""
            },
            "type": "choropleth"
           }
          ],
          "contour": [
           {
            "colorbar": {
             "outlinewidth": 0,
             "ticks": ""
            },
            "colorscale": [
             [
              0,
              "#0d0887"
             ],
             [
              0.1111111111111111,
              "#46039f"
             ],
             [
              0.2222222222222222,
              "#7201a8"
             ],
             [
              0.3333333333333333,
              "#9c179e"
             ],
             [
              0.4444444444444444,
              "#bd3786"
             ],
             [
              0.5555555555555556,
              "#d8576b"
             ],
             [
              0.6666666666666666,
              "#ed7953"
             ],
             [
              0.7777777777777778,
              "#fb9f3a"
             ],
             [
              0.8888888888888888,
              "#fdca26"
             ],
             [
              1,
              "#f0f921"
             ]
            ],
            "type": "contour"
           }
          ],
          "contourcarpet": [
           {
            "colorbar": {
             "outlinewidth": 0,
             "ticks": ""
            },
            "type": "contourcarpet"
           }
          ],
          "heatmap": [
           {
            "colorbar": {
             "outlinewidth": 0,
             "ticks": ""
            },
            "colorscale": [
             [
              0,
              "#0d0887"
             ],
             [
              0.1111111111111111,
              "#46039f"
             ],
             [
              0.2222222222222222,
              "#7201a8"
             ],
             [
              0.3333333333333333,
              "#9c179e"
             ],
             [
              0.4444444444444444,
              "#bd3786"
             ],
             [
              0.5555555555555556,
              "#d8576b"
             ],
             [
              0.6666666666666666,
              "#ed7953"
             ],
             [
              0.7777777777777778,
              "#fb9f3a"
             ],
             [
              0.8888888888888888,
              "#fdca26"
             ],
             [
              1,
              "#f0f921"
             ]
            ],
            "type": "heatmap"
           }
          ],
          "heatmapgl": [
           {
            "colorbar": {
             "outlinewidth": 0,
             "ticks": ""
            },
            "colorscale": [
             [
              0,
              "#0d0887"
             ],
             [
              0.1111111111111111,
              "#46039f"
             ],
             [
              0.2222222222222222,
              "#7201a8"
             ],
             [
              0.3333333333333333,
              "#9c179e"
             ],
             [
              0.4444444444444444,
              "#bd3786"
             ],
             [
              0.5555555555555556,
              "#d8576b"
             ],
             [
              0.6666666666666666,
              "#ed7953"
             ],
             [
              0.7777777777777778,
              "#fb9f3a"
             ],
             [
              0.8888888888888888,
              "#fdca26"
             ],
             [
              1,
              "#f0f921"
             ]
            ],
            "type": "heatmapgl"
           }
          ],
          "histogram": [
           {
            "marker": {
             "pattern": {
              "fillmode": "overlay",
              "size": 10,
              "solidity": 0.2
             }
            },
            "type": "histogram"
           }
          ],
          "histogram2d": [
           {
            "colorbar": {
             "outlinewidth": 0,
             "ticks": ""
            },
            "colorscale": [
             [
              0,
              "#0d0887"
             ],
             [
              0.1111111111111111,
              "#46039f"
             ],
             [
              0.2222222222222222,
              "#7201a8"
             ],
             [
              0.3333333333333333,
              "#9c179e"
             ],
             [
              0.4444444444444444,
              "#bd3786"
             ],
             [
              0.5555555555555556,
              "#d8576b"
             ],
             [
              0.6666666666666666,
              "#ed7953"
             ],
             [
              0.7777777777777778,
              "#fb9f3a"
             ],
             [
              0.8888888888888888,
              "#fdca26"
             ],
             [
              1,
              "#f0f921"
             ]
            ],
            "type": "histogram2d"
           }
          ],
          "histogram2dcontour": [
           {
            "colorbar": {
             "outlinewidth": 0,
             "ticks": ""
            },
            "colorscale": [
             [
              0,
              "#0d0887"
             ],
             [
              0.1111111111111111,
              "#46039f"
             ],
             [
              0.2222222222222222,
              "#7201a8"
             ],
             [
              0.3333333333333333,
              "#9c179e"
             ],
             [
              0.4444444444444444,
              "#bd3786"
             ],
             [
              0.5555555555555556,
              "#d8576b"
             ],
             [
              0.6666666666666666,
              "#ed7953"
             ],
             [
              0.7777777777777778,
              "#fb9f3a"
             ],
             [
              0.8888888888888888,
              "#fdca26"
             ],
             [
              1,
              "#f0f921"
             ]
            ],
            "type": "histogram2dcontour"
           }
          ],
          "mesh3d": [
           {
            "colorbar": {
             "outlinewidth": 0,
             "ticks": ""
            },
            "type": "mesh3d"
           }
          ],
          "parcoords": [
           {
            "line": {
             "colorbar": {
              "outlinewidth": 0,
              "ticks": ""
             }
            },
            "type": "parcoords"
           }
          ],
          "pie": [
           {
            "automargin": true,
            "type": "pie"
           }
          ],
          "scatter": [
           {
            "marker": {
             "colorbar": {
              "outlinewidth": 0,
              "ticks": ""
             }
            },
            "type": "scatter"
           }
          ],
          "scatter3d": [
           {
            "line": {
             "colorbar": {
              "outlinewidth": 0,
              "ticks": ""
             }
            },
            "marker": {
             "colorbar": {
              "outlinewidth": 0,
              "ticks": ""
             }
            },
            "type": "scatter3d"
           }
          ],
          "scattercarpet": [
           {
            "marker": {
             "colorbar": {
              "outlinewidth": 0,
              "ticks": ""
             }
            },
            "type": "scattercarpet"
           }
          ],
          "scattergeo": [
           {
            "marker": {
             "colorbar": {
              "outlinewidth": 0,
              "ticks": ""
             }
            },
            "type": "scattergeo"
           }
          ],
          "scattergl": [
           {
            "marker": {
             "colorbar": {
              "outlinewidth": 0,
              "ticks": ""
             }
            },
            "type": "scattergl"
           }
          ],
          "scattermapbox": [
           {
            "marker": {
             "colorbar": {
              "outlinewidth": 0,
              "ticks": ""
             }
            },
            "type": "scattermapbox"
           }
          ],
          "scatterpolar": [
           {
            "marker": {
             "colorbar": {
              "outlinewidth": 0,
              "ticks": ""
             }
            },
            "type": "scatterpolar"
           }
          ],
          "scatterpolargl": [
           {
            "marker": {
             "colorbar": {
              "outlinewidth": 0,
              "ticks": ""
             }
            },
            "type": "scatterpolargl"
           }
          ],
          "scatterternary": [
           {
            "marker": {
             "colorbar": {
              "outlinewidth": 0,
              "ticks": ""
             }
            },
            "type": "scatterternary"
           }
          ],
          "surface": [
           {
            "colorbar": {
             "outlinewidth": 0,
             "ticks": ""
            },
            "colorscale": [
             [
              0,
              "#0d0887"
             ],
             [
              0.1111111111111111,
              "#46039f"
             ],
             [
              0.2222222222222222,
              "#7201a8"
             ],
             [
              0.3333333333333333,
              "#9c179e"
             ],
             [
              0.4444444444444444,
              "#bd3786"
             ],
             [
              0.5555555555555556,
              "#d8576b"
             ],
             [
              0.6666666666666666,
              "#ed7953"
             ],
             [
              0.7777777777777778,
              "#fb9f3a"
             ],
             [
              0.8888888888888888,
              "#fdca26"
             ],
             [
              1,
              "#f0f921"
             ]
            ],
            "type": "surface"
           }
          ],
          "table": [
           {
            "cells": {
             "fill": {
              "color": "#EBF0F8"
             },
             "line": {
              "color": "white"
             }
            },
            "header": {
             "fill": {
              "color": "#C8D4E3"
             },
             "line": {
              "color": "white"
             }
            },
            "type": "table"
           }
          ]
         },
         "layout": {
          "annotationdefaults": {
           "arrowcolor": "#2a3f5f",
           "arrowhead": 0,
           "arrowwidth": 1
          },
          "autotypenumbers": "strict",
          "coloraxis": {
           "colorbar": {
            "outlinewidth": 0,
            "ticks": ""
           }
          },
          "colorscale": {
           "diverging": [
            [
             0,
             "#8e0152"
            ],
            [
             0.1,
             "#c51b7d"
            ],
            [
             0.2,
             "#de77ae"
            ],
            [
             0.3,
             "#f1b6da"
            ],
            [
             0.4,
             "#fde0ef"
            ],
            [
             0.5,
             "#f7f7f7"
            ],
            [
             0.6,
             "#e6f5d0"
            ],
            [
             0.7,
             "#b8e186"
            ],
            [
             0.8,
             "#7fbc41"
            ],
            [
             0.9,
             "#4d9221"
            ],
            [
             1,
             "#276419"
            ]
           ],
           "sequential": [
            [
             0,
             "#0d0887"
            ],
            [
             0.1111111111111111,
             "#46039f"
            ],
            [
             0.2222222222222222,
             "#7201a8"
            ],
            [
             0.3333333333333333,
             "#9c179e"
            ],
            [
             0.4444444444444444,
             "#bd3786"
            ],
            [
             0.5555555555555556,
             "#d8576b"
            ],
            [
             0.6666666666666666,
             "#ed7953"
            ],
            [
             0.7777777777777778,
             "#fb9f3a"
            ],
            [
             0.8888888888888888,
             "#fdca26"
            ],
            [
             1,
             "#f0f921"
            ]
           ],
           "sequentialminus": [
            [
             0,
             "#0d0887"
            ],
            [
             0.1111111111111111,
             "#46039f"
            ],
            [
             0.2222222222222222,
             "#7201a8"
            ],
            [
             0.3333333333333333,
             "#9c179e"
            ],
            [
             0.4444444444444444,
             "#bd3786"
            ],
            [
             0.5555555555555556,
             "#d8576b"
            ],
            [
             0.6666666666666666,
             "#ed7953"
            ],
            [
             0.7777777777777778,
             "#fb9f3a"
            ],
            [
             0.8888888888888888,
             "#fdca26"
            ],
            [
             1,
             "#f0f921"
            ]
           ]
          },
          "colorway": [
           "#636efa",
           "#EF553B",
           "#00cc96",
           "#ab63fa",
           "#FFA15A",
           "#19d3f3",
           "#FF6692",
           "#B6E880",
           "#FF97FF",
           "#FECB52"
          ],
          "font": {
           "color": "#2a3f5f"
          },
          "geo": {
           "bgcolor": "white",
           "lakecolor": "white",
           "landcolor": "#E5ECF6",
           "showlakes": true,
           "showland": true,
           "subunitcolor": "white"
          },
          "hoverlabel": {
           "align": "left"
          },
          "hovermode": "closest",
          "mapbox": {
           "style": "light"
          },
          "paper_bgcolor": "white",
          "plot_bgcolor": "#E5ECF6",
          "polar": {
           "angularaxis": {
            "gridcolor": "white",
            "linecolor": "white",
            "ticks": ""
           },
           "bgcolor": "#E5ECF6",
           "radialaxis": {
            "gridcolor": "white",
            "linecolor": "white",
            "ticks": ""
           }
          },
          "scene": {
           "xaxis": {
            "backgroundcolor": "#E5ECF6",
            "gridcolor": "white",
            "gridwidth": 2,
            "linecolor": "white",
            "showbackground": true,
            "ticks": "",
            "zerolinecolor": "white"
           },
           "yaxis": {
            "backgroundcolor": "#E5ECF6",
            "gridcolor": "white",
            "gridwidth": 2,
            "linecolor": "white",
            "showbackground": true,
            "ticks": "",
            "zerolinecolor": "white"
           },
           "zaxis": {
            "backgroundcolor": "#E5ECF6",
            "gridcolor": "white",
            "gridwidth": 2,
            "linecolor": "white",
            "showbackground": true,
            "ticks": "",
            "zerolinecolor": "white"
           }
          },
          "shapedefaults": {
           "line": {
            "color": "#2a3f5f"
           }
          },
          "ternary": {
           "aaxis": {
            "gridcolor": "white",
            "linecolor": "white",
            "ticks": ""
           },
           "baxis": {
            "gridcolor": "white",
            "linecolor": "white",
            "ticks": ""
           },
           "bgcolor": "#E5ECF6",
           "caxis": {
            "gridcolor": "white",
            "linecolor": "white",
            "ticks": ""
           }
          },
          "title": {
           "x": 0.05
          },
          "xaxis": {
           "automargin": true,
           "gridcolor": "white",
           "linecolor": "white",
           "ticks": "",
           "title": {
            "standoff": 15
           },
           "zerolinecolor": "white",
           "zerolinewidth": 2
          },
          "yaxis": {
           "automargin": true,
           "gridcolor": "white",
           "linecolor": "white",
           "ticks": "",
           "title": {
            "standoff": 15
           },
           "zerolinecolor": "white",
           "zerolinewidth": 2
          }
         }
        },
        "title": {
         "text": "Monthly Spending on Gym & Fitness by User"
        },
        "xaxis": {
         "anchor": "y",
         "domain": [
          0,
          1
         ],
         "title": {
          "text": "Month"
         }
        },
        "yaxis": {
         "anchor": "x",
         "domain": [
          0,
          1
         ],
         "title": {
          "text": "Spending (£)"
         }
        }
       }
      }
     },
     "metadata": {},
     "output_type": "display_data"
    }
   ],
   "source": [
    "#interactive px line graph\n",
    "fig = px.line(x= 'month', y= 'amount', color='user_id' , data_frame= trend_plot, title='Monthly Spending on Gym & Fitness by User',  \n",
    "labels = dict(amount='Spending (£)', month='Month', user_id='User ID'))\n",
    "\n",
    "fig.show()"
   ]
  },
  {
   "cell_type": "markdown",
   "metadata": {},
   "source": [
    "### 8) What else can you tell us that's interesting about this dataset?"
   ]
  },
  {
   "cell_type": "markdown",
   "metadata": {},
   "source": [
    "7 users did not spending anything on gym and fitness\n",
    "The general trend shows that the first few months of the year a large amount of the spending, as we reached April all but one user stopped all spending. This could be due to people having New Years resolutions and then giving up on them. between mid spring and early summer there was no spending. AS we reached pass mid summer, spending increased perhaps to prepare for the summer holidays whilst once again dipping to near 0 for all users in late summer. "
   ]
  },
  {
   "cell_type": "code",
   "execution_count": 23,
   "metadata": {},
   "outputs": [
    {
     "data": {
      "text/html": [
       "<div>\n",
       "<style scoped>\n",
       "    .dataframe tbody tr th:only-of-type {\n",
       "        vertical-align: middle;\n",
       "    }\n",
       "\n",
       "    .dataframe tbody tr th {\n",
       "        vertical-align: top;\n",
       "    }\n",
       "\n",
       "    .dataframe thead th {\n",
       "        text-align: right;\n",
       "    }\n",
       "</style>\n",
       "<table border=\"1\" class=\"dataframe\">\n",
       "  <thead>\n",
       "    <tr style=\"text-align: right;\">\n",
       "      <th></th>\n",
       "      <th>category</th>\n",
       "      <th>month</th>\n",
       "      <th>len</th>\n",
       "      <th>sum</th>\n",
       "      <th>mean</th>\n",
       "      <th>median</th>\n",
       "      <th>amin</th>\n",
       "      <th>amax</th>\n",
       "    </tr>\n",
       "  </thead>\n",
       "  <tbody>\n",
       "    <tr>\n",
       "      <th>0</th>\n",
       "      <td>accommodation</td>\n",
       "      <td>Jan</td>\n",
       "      <td>7.0</td>\n",
       "      <td>-500.15</td>\n",
       "      <td>-71.450000</td>\n",
       "      <td>-29.990</td>\n",
       "      <td>-152.13</td>\n",
       "      <td>20.00</td>\n",
       "    </tr>\n",
       "    <tr>\n",
       "      <th>1</th>\n",
       "      <td>accommodation</td>\n",
       "      <td>Feb</td>\n",
       "      <td>6.0</td>\n",
       "      <td>-707.40</td>\n",
       "      <td>-117.900000</td>\n",
       "      <td>-41.530</td>\n",
       "      <td>-408.00</td>\n",
       "      <td>-12.85</td>\n",
       "    </tr>\n",
       "    <tr>\n",
       "      <th>2</th>\n",
       "      <td>accommodation</td>\n",
       "      <td>Mar</td>\n",
       "      <td>13.0</td>\n",
       "      <td>-584.56</td>\n",
       "      <td>-44.966154</td>\n",
       "      <td>-25.500</td>\n",
       "      <td>-189.21</td>\n",
       "      <td>85.04</td>\n",
       "    </tr>\n",
       "    <tr>\n",
       "      <th>3</th>\n",
       "      <td>accommodation</td>\n",
       "      <td>Apr</td>\n",
       "      <td>4.0</td>\n",
       "      <td>-99.14</td>\n",
       "      <td>-24.785000</td>\n",
       "      <td>-20.675</td>\n",
       "      <td>-44.80</td>\n",
       "      <td>-12.99</td>\n",
       "    </tr>\n",
       "    <tr>\n",
       "      <th>4</th>\n",
       "      <td>accommodation</td>\n",
       "      <td>May</td>\n",
       "      <td>4.0</td>\n",
       "      <td>-161.74</td>\n",
       "      <td>-40.435000</td>\n",
       "      <td>-44.635</td>\n",
       "      <td>-56.97</td>\n",
       "      <td>-15.50</td>\n",
       "    </tr>\n",
       "    <tr>\n",
       "      <th>...</th>\n",
       "      <td>...</td>\n",
       "      <td>...</td>\n",
       "      <td>...</td>\n",
       "      <td>...</td>\n",
       "      <td>...</td>\n",
       "      <td>...</td>\n",
       "      <td>...</td>\n",
       "      <td>...</td>\n",
       "    </tr>\n",
       "    <tr>\n",
       "      <th>733</th>\n",
       "      <td>vehicle_hire</td>\n",
       "      <td>May</td>\n",
       "      <td>NaN</td>\n",
       "      <td>0.00</td>\n",
       "      <td>NaN</td>\n",
       "      <td>NaN</td>\n",
       "      <td>NaN</td>\n",
       "      <td>NaN</td>\n",
       "    </tr>\n",
       "    <tr>\n",
       "      <th>734</th>\n",
       "      <td>vehicle_hire</td>\n",
       "      <td>Jun</td>\n",
       "      <td>NaN</td>\n",
       "      <td>0.00</td>\n",
       "      <td>NaN</td>\n",
       "      <td>NaN</td>\n",
       "      <td>NaN</td>\n",
       "      <td>NaN</td>\n",
       "    </tr>\n",
       "    <tr>\n",
       "      <th>735</th>\n",
       "      <td>vehicle_hire</td>\n",
       "      <td>Jul</td>\n",
       "      <td>8.0</td>\n",
       "      <td>-619.69</td>\n",
       "      <td>-77.461250</td>\n",
       "      <td>-22.500</td>\n",
       "      <td>-322.85</td>\n",
       "      <td>30.00</td>\n",
       "    </tr>\n",
       "    <tr>\n",
       "      <th>736</th>\n",
       "      <td>vehicle_hire</td>\n",
       "      <td>Aug</td>\n",
       "      <td>7.0</td>\n",
       "      <td>-698.42</td>\n",
       "      <td>-99.774286</td>\n",
       "      <td>-128.280</td>\n",
       "      <td>-346.15</td>\n",
       "      <td>200.00</td>\n",
       "    </tr>\n",
       "    <tr>\n",
       "      <th>737</th>\n",
       "      <td>vehicle_hire</td>\n",
       "      <td>Sep</td>\n",
       "      <td>5.0</td>\n",
       "      <td>-211.70</td>\n",
       "      <td>-42.340000</td>\n",
       "      <td>-21.000</td>\n",
       "      <td>-144.00</td>\n",
       "      <td>52.65</td>\n",
       "    </tr>\n",
       "  </tbody>\n",
       "</table>\n",
       "<p>738 rows × 8 columns</p>\n",
       "</div>"
      ],
      "text/plain": [
       "          category month   len     sum        mean   median    amin    amax\n",
       "0    accommodation   Jan   7.0 -500.15  -71.450000  -29.990 -152.13   20.00\n",
       "1    accommodation   Feb   6.0 -707.40 -117.900000  -41.530 -408.00  -12.85\n",
       "2    accommodation   Mar  13.0 -584.56  -44.966154  -25.500 -189.21   85.04\n",
       "3    accommodation   Apr   4.0  -99.14  -24.785000  -20.675  -44.80  -12.99\n",
       "4    accommodation   May   4.0 -161.74  -40.435000  -44.635  -56.97  -15.50\n",
       "..             ...   ...   ...     ...         ...      ...     ...     ...\n",
       "733   vehicle_hire   May   NaN    0.00         NaN      NaN     NaN     NaN\n",
       "734   vehicle_hire   Jun   NaN    0.00         NaN      NaN     NaN     NaN\n",
       "735   vehicle_hire   Jul   8.0 -619.69  -77.461250  -22.500 -322.85   30.00\n",
       "736   vehicle_hire   Aug   7.0 -698.42  -99.774286 -128.280 -346.15  200.00\n",
       "737   vehicle_hire   Sep   5.0 -211.70  -42.340000  -21.000 -144.00   52.65\n",
       "\n",
       "[738 rows x 8 columns]"
      ]
     },
     "execution_count": 23,
     "metadata": {},
     "output_type": "execute_result"
    }
   ],
   "source": [
    "#Question 8 cont\n",
    "#groupby category and month and output some numpy stats\n",
    "income_trend = df.groupby(['category','month'])['amount'].agg([len,np.sum,np.mean,np.median,np.min,np.max]).reset_index()\n",
    "income_trend"
   ]
  },
  {
   "cell_type": "code",
   "execution_count": 24,
   "metadata": {},
   "outputs": [
    {
     "data": {
      "text/html": [
       "<div>\n",
       "<style scoped>\n",
       "    .dataframe tbody tr th:only-of-type {\n",
       "        vertical-align: middle;\n",
       "    }\n",
       "\n",
       "    .dataframe tbody tr th {\n",
       "        vertical-align: top;\n",
       "    }\n",
       "\n",
       "    .dataframe thead th {\n",
       "        text-align: right;\n",
       "    }\n",
       "</style>\n",
       "<table border=\"1\" class=\"dataframe\">\n",
       "  <thead>\n",
       "    <tr style=\"text-align: right;\">\n",
       "      <th></th>\n",
       "      <th>category</th>\n",
       "      <th>month</th>\n",
       "      <th>len</th>\n",
       "      <th>sum</th>\n",
       "      <th>mean</th>\n",
       "      <th>median</th>\n",
       "      <th>amin</th>\n",
       "      <th>amax</th>\n",
       "    </tr>\n",
       "  </thead>\n",
       "  <tbody>\n",
       "    <tr>\n",
       "      <th>0</th>\n",
       "      <td>income</td>\n",
       "      <td>Jan</td>\n",
       "      <td>16.0</td>\n",
       "      <td>52687.98</td>\n",
       "      <td>3292.998750</td>\n",
       "      <td>3344.390</td>\n",
       "      <td>1080.00</td>\n",
       "      <td>5884.98</td>\n",
       "    </tr>\n",
       "    <tr>\n",
       "      <th>1</th>\n",
       "      <td>income</td>\n",
       "      <td>Feb</td>\n",
       "      <td>15.0</td>\n",
       "      <td>49051.26</td>\n",
       "      <td>3270.084000</td>\n",
       "      <td>3313.260</td>\n",
       "      <td>1260.00</td>\n",
       "      <td>5884.98</td>\n",
       "    </tr>\n",
       "    <tr>\n",
       "      <th>2</th>\n",
       "      <td>income</td>\n",
       "      <td>Mar</td>\n",
       "      <td>16.0</td>\n",
       "      <td>55027.16</td>\n",
       "      <td>3439.197500</td>\n",
       "      <td>3579.600</td>\n",
       "      <td>1304.94</td>\n",
       "      <td>5884.98</td>\n",
       "    </tr>\n",
       "    <tr>\n",
       "      <th>3</th>\n",
       "      <td>income</td>\n",
       "      <td>Apr</td>\n",
       "      <td>18.0</td>\n",
       "      <td>57468.96</td>\n",
       "      <td>3192.720000</td>\n",
       "      <td>3306.625</td>\n",
       "      <td>927.62</td>\n",
       "      <td>5333.74</td>\n",
       "    </tr>\n",
       "    <tr>\n",
       "      <th>4</th>\n",
       "      <td>income</td>\n",
       "      <td>May</td>\n",
       "      <td>18.0</td>\n",
       "      <td>61093.82</td>\n",
       "      <td>3394.101111</td>\n",
       "      <td>3608.345</td>\n",
       "      <td>431.40</td>\n",
       "      <td>5500.00</td>\n",
       "    </tr>\n",
       "    <tr>\n",
       "      <th>5</th>\n",
       "      <td>income</td>\n",
       "      <td>Jun</td>\n",
       "      <td>16.0</td>\n",
       "      <td>56064.77</td>\n",
       "      <td>3504.048125</td>\n",
       "      <td>3608.145</td>\n",
       "      <td>1140.00</td>\n",
       "      <td>6500.00</td>\n",
       "    </tr>\n",
       "    <tr>\n",
       "      <th>6</th>\n",
       "      <td>income</td>\n",
       "      <td>Jul</td>\n",
       "      <td>16.0</td>\n",
       "      <td>55953.55</td>\n",
       "      <td>3497.096875</td>\n",
       "      <td>3520.515</td>\n",
       "      <td>1313.83</td>\n",
       "      <td>7000.00</td>\n",
       "    </tr>\n",
       "    <tr>\n",
       "      <th>7</th>\n",
       "      <td>income</td>\n",
       "      <td>Aug</td>\n",
       "      <td>15.0</td>\n",
       "      <td>51395.27</td>\n",
       "      <td>3426.351333</td>\n",
       "      <td>3212.420</td>\n",
       "      <td>1113.48</td>\n",
       "      <td>7000.00</td>\n",
       "    </tr>\n",
       "    <tr>\n",
       "      <th>8</th>\n",
       "      <td>income</td>\n",
       "      <td>Sep</td>\n",
       "      <td>13.0</td>\n",
       "      <td>44910.65</td>\n",
       "      <td>3454.665385</td>\n",
       "      <td>3829.010</td>\n",
       "      <td>1053.74</td>\n",
       "      <td>5541.60</td>\n",
       "    </tr>\n",
       "  </tbody>\n",
       "</table>\n",
       "</div>"
      ],
      "text/plain": [
       "  category month   len       sum         mean    median     amin     amax\n",
       "0   income   Jan  16.0  52687.98  3292.998750  3344.390  1080.00  5884.98\n",
       "1   income   Feb  15.0  49051.26  3270.084000  3313.260  1260.00  5884.98\n",
       "2   income   Mar  16.0  55027.16  3439.197500  3579.600  1304.94  5884.98\n",
       "3   income   Apr  18.0  57468.96  3192.720000  3306.625   927.62  5333.74\n",
       "4   income   May  18.0  61093.82  3394.101111  3608.345   431.40  5500.00\n",
       "5   income   Jun  16.0  56064.77  3504.048125  3608.145  1140.00  6500.00\n",
       "6   income   Jul  16.0  55953.55  3497.096875  3520.515  1313.83  7000.00\n",
       "7   income   Aug  15.0  51395.27  3426.351333  3212.420  1113.48  7000.00\n",
       "8   income   Sep  13.0  44910.65  3454.665385  3829.010  1053.74  5541.60"
      ]
     },
     "execution_count": 24,
     "metadata": {},
     "output_type": "execute_result"
    }
   ],
   "source": [
    "#filter for income\n",
    "income_trend_plot = income_trend.query(\"category =='income'\").reset_index(drop=True)\n",
    "income_trend_plot"
   ]
  },
  {
   "cell_type": "code",
   "execution_count": 25,
   "metadata": {},
   "outputs": [
    {
     "data": {
      "text/plain": [
       "Text(0.5, 1.0, 'Average & Median income across the months')"
      ]
     },
     "execution_count": 25,
     "metadata": {},
     "output_type": "execute_result"
    },
    {
     "data": {
      "image/png": "[encoded data removed]",
      "text/plain": [
       "<Figure size 1008x576 with 2 Axes>"
      ]
     },
     "metadata": {},
     "output_type": "display_data"
    }
   ],
   "source": [
    "#theme and sizing\n",
    "sns.set_theme(style='white')\n",
    "fig, ax = plt.subplots(figsize=(14,8))\n",
    "\n",
    "#bar chart\n",
    "ax = sns.barplot(x= 'month', y= 'len',  data = income_trend_plot, color= 'peachpuff')\n",
    "ax.set_ylabel('Amount of Users')\n",
    "\n",
    "#secondary axis\n",
    "ax2  =  ax.twinx()\n",
    "ax.set_ylim(0, 20)\n",
    "\n",
    "#line graphs\n",
    "palette_two = sns.color_palette('Paired')\n",
    "ax = sns.lineplot(x= 'month', y= 'mean',  data = income_trend_plot, color='seagreen', lw = 3 )\n",
    "ax2 = sns.lineplot(x= 'month', y= 'median',  data = income_trend_plot, color='dodgerblue', lw = 3 )\n",
    "\n",
    "#formatting\n",
    "plt.legend(labels=['Average', 'Median'])\n",
    "plt.xlabel('Month')\n",
    "plt.ylabel('Monthly Income')\n",
    "plt.title('Average & Median income across the months', weight = 'semibold', fontsize = 16, pad= 10)"
   ]
  },
  {
   "cell_type": "markdown",
   "metadata": {},
   "source": [
    "Assumptions : \n",
    "  1. Income = Money received in a salaried worker's bank account (Does not include any investment/interest earnings)\n",
    "  2. Income is in GBP so we assume that this monthly salary is for those living/ have employment in *London*\n",
    "  3. This is average is for the data given and does not represent London/ UK average \n",
    "  4. Net Income since its arriving into their bank account and we've already said they live/ work in London\n",
    "  5. For context assume individual lives alone with no partner or roommate in \n",
    "\n",
    "- With an average of 16 users receiving income each month, we have an average monthly income of £3.4k\n",
    "- Median income is lower then average for all but one month, this is due a max monthly earning by an individual of £7000 (skews the average)\n",
    "\n",
    "Context:\n",
    "- To put these values in context an average £3.4k pcm is equal to approximately £60k gross salary per annum (assume no student loans)\n",
    "- London average for studio apartment:\n",
    "  - £1500 pcm\n",
    "  - £90 council tax (with 25% single person discount)\n",
    "  - £200 for utilies, broadband, parking \n",
    "  - £400 groceries\n",
    "  - £200 Miscallaneous\n",
    "- Total Costs: £2450\n",
    "- **£950** left for entertainment, investment/savings and more\n",
    "\n",
    "For the future breaking the spending habits down individually could give a good indication of where costs can be saved/ cut and how an individual could better utilise their income.\n",
    "\n",
    "END"
   ]
  }
 ],
 "metadata": {
  "kernelspec": {
   "display_name": "Python 3.7.11 ('crypto_env')",
   "language": "python",
   "name": "python3"
  },
  "language_info": {
   "codemirror_mode": {
    "name": "ipython",
    "version": 3
   },
   "file_extension": ".py",
   "mimetype": "text/x-python",
   "name": "python",
   "nbconvert_exporter": "python",
   "pygments_lexer": "ipython3",
   "version": "3.7.11"
  },
  "vscode": {
   "interpreter": {
    "hash": "70a9a6fc164f963f33f98104034076a23ab12316c054ebd365f18695a5b09a44"
   }
  }
 },
 "nbformat": 4,
 "nbformat_minor": 4
}
